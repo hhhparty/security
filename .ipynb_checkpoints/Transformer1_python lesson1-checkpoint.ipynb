{
 "cells": [
  {
   "cell_type": "markdown",
   "metadata": {},
   "source": [
    "输出"
   ]
  },
  {
   "cell_type": "code",
   "execution_count": 1,
   "metadata": {},
   "outputs": [
    {
     "name": "stdout",
     "output_type": "stream",
     "text": [
      "TRANSFORMER\n"
     ]
    }
   ],
   "source": [
    "print('TRANSFORMER')"
   ]
  },
  {
   "cell_type": "markdown",
   "metadata": {},
   "source": [
    "输入"
   ]
  },
  {
   "cell_type": "code",
   "execution_count": 8,
   "metadata": {},
   "outputs": [
    {
     "name": "stdout",
     "output_type": "stream",
     "text": [
      "你是哪个变形金刚1擎天柱\n"
     ]
    }
   ],
   "source": [
    "name = input('你是哪个变形金刚1')"
   ]
  },
  {
   "cell_type": "code",
   "execution_count": 9,
   "metadata": {},
   "outputs": [
    {
     "name": "stdout",
     "output_type": "stream",
     "text": [
      "擎天柱\n"
     ]
    }
   ],
   "source": [
    "print(name)"
   ]
  },
  {
   "cell_type": "code",
   "execution_count": 19,
   "metadata": {},
   "outputs": [
    {
     "name": "stdout",
     "output_type": "stream",
     "text": [
      "133364864\n"
     ]
    }
   ],
   "source": [
    "print (23488 * 5678)"
   ]
  },
  {
   "cell_type": "code",
   "execution_count": 20,
   "metadata": {},
   "outputs": [
    {
     "name": "stdout",
     "output_type": "stream",
     "text": [
      "catdog\n"
     ]
    }
   ],
   "source": [
    "print('cat' + 'dog')"
   ]
  },
  {
   "cell_type": "code",
   "execution_count": 24,
   "metadata": {},
   "outputs": [
    {
     "name": "stdout",
     "output_type": "stream",
     "text": [
      "xytlhr\n"
     ]
    }
   ],
   "source": [
    "cat = 'xyt'\n",
    "dog = 'lhr'\n",
    "print(cat + dog)"
   ]
  },
  {
   "cell_type": "code",
   "execution_count": 32,
   "metadata": {
    "scrolled": true
   },
   "outputs": [
    {
     "name": "stdout",
     "output_type": "stream",
     "text": [
      "你hao你hao你hao你hao你hao你hao你hao你hao你hao你hao你hao你hao你hao你hao你hao你hao你hao你hao你hao你hao你hao你hao你hao\n"
     ]
    }
   ],
   "source": [
    "print('你hao'*23)"
   ]
  },
  {
   "cell_type": "code",
   "execution_count": 37,
   "metadata": {},
   "outputs": [
    {
     "name": "stdout",
     "output_type": "stream",
     "text": [
      "I love pizza\n",
      "pizzapizzapizzapizzapizzapizzapizzapizzapizzapizza\n",
      "yumyumyumyumyumyumyumyumyumyum\n",
      " I'm full I'm full I'm full I'm full I'm full I'm full I'm full I'm full I'm full I'm full I'm full I'm full I'm full I'm full I'm full I'm full I'm full I'm full I'm full I'm full\n"
     ]
    }
   ],
   "source": [
    "print(\"I love pizza\")\n",
    "print(\"pizza\" * 10)\n",
    "     \n",
    "print(\"yum\" * 10)\n",
    "print(\" I'm full\" * 20)"
   ]
  },
  {
   "cell_type": "code",
   "execution_count": null,
   "metadata": {},
   "outputs": [],
   "source": [
    "import random\n",
    "secret = random.randint(1,99)\n",
    "guess = 0\n",
    "tries = 0\n",
    "print('AHOY! I'm the Dread Pirate Roberts, and I have a secret!')\n",
    "print('It is')"
   ]
  }
 ],
 "metadata": {
  "kernelspec": {
   "display_name": "Python 3",
   "language": "python",
   "name": "python3"
  },
  "language_info": {
   "codemirror_mode": {
    "name": "ipython",
    "version": 3
   },
   "file_extension": ".py",
   "mimetype": "text/x-python",
   "name": "python",
   "nbconvert_exporter": "python",
   "pygments_lexer": "ipython3",
   "version": "3.6.5"
  }
 },
 "nbformat": 4,
 "nbformat_minor": 2
}
