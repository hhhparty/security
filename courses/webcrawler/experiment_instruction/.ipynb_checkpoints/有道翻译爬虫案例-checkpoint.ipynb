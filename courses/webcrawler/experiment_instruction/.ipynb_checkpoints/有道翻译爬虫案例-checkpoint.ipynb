{
 "cells": [
  {
   "cell_type": "code",
   "execution_count": 2,
   "metadata": {},
   "outputs": [
    {
     "data": {
      "text/plain": [
       "'{\"translateResult\":[[{\"tgt\":\"Hello, People\\'s Republic of China\",\"src\":\"中华人民共和国 你好\"}]],\"errorCode\":0,\"type\":\"zh-CHS2en\"}'"
      ]
     },
     "execution_count": 2,
     "metadata": {},
     "output_type": "execute_result"
    }
   ],
   "source": [
    "from requests import Request, Session\n",
    "import requests\n",
    "import re\n",
    "import hashlib\n",
    "import time\n",
    "import random\n",
    "\n",
    "class youdaoFanyiSpider:\n",
    "    def __init__(self,word):\n",
    "        self.word = word\n",
    "        self.t = \"75551116684a442e8625ebfc9e5af1ba\"\n",
    "        self.r =  str(int(time.time() * 1000))\n",
    "        self.i = self.r + str(int(random.random()*10))\n",
    "        self.ts = self.r\n",
    "        self.bv = self.t\n",
    "        self.salt = self.i \n",
    "        msgstr = \"fanyideskweb\" + self.word + self.i + \"n%A-rKaT5fb[Gy?;N5@Tj\"\n",
    "        self.sign = hashlib.md5(msgstr.encode('utf-8')).hexdigest()\n",
    "        self.url = 'http://fanyi.youdao.com/translate_o?smartresult=dict&smartresult=rule'\n",
    "        \n",
    "   \n",
    "    def getEng(self):\n",
    "        try:\n",
    "            headers = {\n",
    "                \"Host\":\"fanyi.youdao.com\",\n",
    "                \"Proxy-Connection\":\"keep-alive\",\n",
    "                \"Content-Length\":\"251\",\n",
    "                \"Accept\":\"application/json, text/javascript, */*; q=0.01\",\n",
    "                \"Origin\":\"http://fanyi.youdao.com\",\n",
    "                \"X-Requested-With\":\"XMLHttpRequest\",\n",
    "                \"User-Agent\":\"Mozilla/5.0 (Windows NT 10.0; Win64; x64) AppleWebKit/537.36 (KHTML, like Gecko) Chrome/78.0.3904.97 Safari/537.36\",\n",
    "                \"Content-Type\":\"application/x-www-form-urlencoded; charset=UTF-8\",\n",
    "                \"Referer\":\"http://fanyi.youdao.com/\",\n",
    "                \"Accept-Encoding\":\"gzip, deflate\",\n",
    "                \"Accept-Language\":\"zh-CN,zh;q=0.9\",\n",
    "                \"Cookie\":\"_ntes_nnid=538c8391b2cab8b6b51282c4448c194d,1567737512037; OUTFOX_SEARCH_USER_ID_NCOO=895304360.5780765;OUTFOX_SEARCH_USER_ID=721560860@10.168.11.69; JSESSIONID=aaaKlEXpYuOVh80-h2i6w; ___rl__test__cookies=1574253932108\"\n",
    "            }\n",
    "\n",
    "\n",
    "            payload = dict(i=self.word,\n",
    "                           to='AUTO',\n",
    "                           smartresult='dict',\n",
    "                           client='fanyideskweb',\n",
    "                           salt=self.salt,\n",
    "                           sign=self.sign,\n",
    "                           ts= self.ts,\n",
    "                           bv= self.bv,\n",
    "                           doctype='json',\n",
    "                           version='2.1',\n",
    "                           keyfrom='fanyi.web',\n",
    "                           action= 'FY_BY_REALTlME'\n",
    "                          )\n",
    "            payload[\"form\"] = \"AUTO\"\n",
    "\n",
    "            session = requests.Session()\n",
    "            #req = requests.post(self.url,data=payload,headers=)\n",
    "            req = Request('POST', self.url, data=payload,headers=headers)\n",
    "            prepped = req.prepare()\n",
    "\n",
    "            # do something with prepped.body\n",
    "            # do something with prepped.headers\n",
    "\n",
    "            r = session.send(prepped) # stream=stream,  verify=verify,    proxies=proxies,    cert=cert,   timeout=timeout)\n",
    "\n",
    "\n",
    "            r.raise_for_status()\n",
    "            r.encoding = r.apparent_encoding\n",
    "\n",
    "            return r.text\n",
    "\n",
    "        except requests.exceptions.HTTPError as e:\n",
    "            print(e)       \n",
    "            return \"Some exceptions were raised.\"\n",
    "\n",
    "f = youdaoFanyiSpider('中华人民共和国 你好')\n",
    "f.getEng()\n",
    "\n",
    " "
   ]
  },
  {
   "cell_type": "code",
   "execution_count": 35,
   "metadata": {},
   "outputs": [
    {
     "data": {
      "text/plain": [
       "'b3af409bb8423187c75e6c7f5b683908'"
      ]
     },
     "execution_count": 35,
     "metadata": {},
     "output_type": "execute_result"
    }
   ],
   "source": [
    "import hashlib\n",
    "hashlib.md5(\"adf\".encode('utf-8')).hexdigest()\n"
   ]
  },
  {
   "cell_type": "code",
   "execution_count": null,
   "metadata": {},
   "outputs": [],
   "source": [
    "1574259642416\n",
    "15742596424166"
   ]
  }
 ],
 "metadata": {
  "kernelspec": {
   "display_name": "Python 3",
   "language": "python",
   "name": "python3"
  },
  "language_info": {
   "codemirror_mode": {
    "name": "ipython",
    "version": 3
   },
   "file_extension": ".py",
   "mimetype": "text/x-python",
   "name": "python",
   "nbconvert_exporter": "python",
   "pygments_lexer": "ipython3",
   "version": "3.7.3"
  }
 },
 "nbformat": 4,
 "nbformat_minor": 2
}
