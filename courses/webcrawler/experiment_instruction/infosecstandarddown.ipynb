{
 "cells": [
  {
   "cell_type": "code",
   "execution_count": 7,
   "metadata": {},
   "outputs": [
    {
     "name": "stdout",
     "output_type": "stream",
     "text": [
      "begin\n",
      "\n"
     ]
    }
   ],
   "source": [
    "import requests\n",
    "from bs4 import BeautifulSoup\n",
    "\n",
    "def fetchUrl(url):\n",
    "    headers = {\n",
    "        \"Accept\":\"text/html,application/xhtml+xml,application/xml;q=0.9\",\n",
    "        \"Accept-Language\":\"zh-CN,zh;q=0.9\",\n",
    "        \"Cache-Control\":\"max-age=0\",\n",
    "        \"Cookie\":\"UM_distinctid=16e87b4eb7d45-0b9f7c81cdf82b-7711a3e-1fa400-16e87b4eb7e50b; CNZZDATA3146741=cnzz_eid%3D1244056825-1574232859-http%253A%252F%252Flawv3.wkinfo.com.cn%252F%26ntime%3D1574232859\",\n",
    "        \"Host\":\"lawv3.wkinfo.com.cn\",\n",
    "        \"If-Modified-Since\":\"Fri, 16 Aug 2019 13:18:52 GMT\",\n",
    "        \"Proxy-Connection\":\"keep-alive\",\n",
    "        \"Referer\":\"http://lawv3.wkinfo.com.cn/topic/61000000448/\",\n",
    "        \"Upgrade-Insecure-Requests\":\"1\",\n",
    "        \"User-Agent\":\"Mozilla/5.0 (Windows NT 10.0; Win64; x64) AppleWebKit/537.36 (KHTML, like Gecko) Chrome/78.0.3904.97 Safari/537.36\",\n",
    "\n",
    "    }\n",
    "\n",
    "    try:\n",
    "        #req = requests.Request('GET',url,headers=headers)\n",
    "        #prepped = req.prepare()\n",
    "        s = requests.Session()\n",
    "        resp = s.get(url,headers=headers)\n",
    "        #resp = s.send(prepped)\n",
    "        resp.raise_for_status()\n",
    "        resp.encoding = resp.apparent_encoding\n",
    "\n",
    "        return resp.text\n",
    "    except requests.RequestException as identifier:\n",
    "        print(identifier)\n",
    "        print(\"error\")\n",
    "\n",
    "\n",
    "\n",
    "if __name__ == \"__main__\":\n",
    "    print(\"begin\")\n",
    "    urls = [\n",
    "        \"http://lawv3.wkinfo.com.cn/topic/61000000448/1.HTML\",\n",
    "        \"http://lawv3.wkinfo.com.cn/topic/61000000448/2.HTML\",\n",
    "        \"http://lawv3.wkinfo.com.cn/topic/61000000448/3.HTML\",\n",
    "        \"http://lawv3.wkinfo.com.cn/topic/61000000448/4.HTML\",\n",
    "        \"http://lawv3.wkinfo.com.cn/topic/61000000448/5.HTML\",\n",
    "        \"http://lawv3.wkinfo.com.cn/topic/61000000448/6.HTML\",\n",
    "        \"http://lawv3.wkinfo.com.cn/topic/61000000448/7.HTML\",\n",
    "        \"http://lawv3.wkinfo.com.cn/topic/61000000448/8.HTML\",\n",
    "        \"http://lawv3.wkinfo.com.cn/topic/61000000448/9.HTML\",\n",
    "        \"http://lawv3.wkinfo.com.cn/topic/61000000448/10.HTML\",\n",
    "        \"http://lawv3.wkinfo.com.cn/topic/61000000448/11.HTML\",\n",
    "        \"http://lawv3.wkinfo.com.cn/topic/61000000448/12.HTML\",    \n",
    "    ]\n",
    "    #for url in urls:\n",
    "    print(fetchUrl( \"http://lawv3.wkinfo.com.cn/topic/61000000448/1.HTML\"))"
   ]
  },
  {
   "cell_type": "code",
   "execution_count": 12,
   "metadata": {},
   "outputs": [
    {
     "name": "stdout",
     "output_type": "stream",
     "text": [
      "\n",
      "http://lawv3.wkinfo.com.cn/topic/61000000448/1.HTML\n"
     ]
    }
   ],
   "source": [
    "import requests\n",
    "from bs4 import BeautifulSoup\n",
    "\n",
    "\n",
    "def fetchUrl(url):\n",
    "    try:\n",
    "        headers = {\n",
    "            \"Accept\":\"text/html,application/xhtml+xml,application/xml;q=0.9\",\n",
    "            \"Accept-Language\":\"zh-CN,zh;q=0.9\",\n",
    "            \"Cookie\":\"UM_distinctid=16e87b4eb7d45-0b9f7c81cdf82b-7711a3e-1fa400-16e87b4eb7e50b; \",\n",
    "            \"Host\":\"lawv3.wkinfo.com.cn\",\n",
    "            \"Proxy-Connection\":\"keep-alive\",\n",
    "            \"Referer\":\"http://lawv3.wkinfo.com.cn/topic/61000000448/\",\n",
    "            \"Upgrade-Insecure-Requests\":\"1\",\n",
    "            \"User-Agent\":\"Mozilla/5.0 (Windows NT 10.0; Win64; x64) AppleWebKit/537.36 (KHTML, like Gecko) Chrome/78.0.3904.97 Safari/537.36\",\n",
    "\n",
    "        }\n",
    "        r = requests.get(url,headers=headers)\n",
    "        r.raise_for_status()\n",
    "        r.encoding = r.apparent_encoding\n",
    "        return r.text\n",
    "\n",
    "    except:\n",
    "        return \"Some exceptions were raised.\"\n",
    "\n",
    "def parseHtml(html):\n",
    "    bsObj = BeautifulSoup(html,'html.parser')\n",
    "    \n",
    "    pass\n",
    "\n",
    "\n",
    "if __name__ == \"__main__\":\n",
    "    urls = [\n",
    "        \"http://lawv3.wkinfo.com.cn/topic/61000000448/1.HTML\",\n",
    "        \"http://lawv3.wkinfo.com.cn/topic/61000000448/2.HTML\",\n",
    "        \"http://lawv3.wkinfo.com.cn/topic/61000000448/3.HTML\",\n",
    "        \"http://lawv3.wkinfo.com.cn/topic/61000000448/4.HTML\",\n",
    "        \"http://lawv3.wkinfo.com.cn/topic/61000000448/5.HTML\",\n",
    "        \"http://lawv3.wkinfo.com.cn/topic/61000000448/6.HTML\",\n",
    "        \"http://lawv3.wkinfo.com.cn/topic/61000000448/7.HTML\",\n",
    "        \"http://lawv3.wkinfo.com.cn/topic/61000000448/8.HTML\",\n",
    "        \"http://lawv3.wkinfo.com.cn/topic/61000000448/9.HTML\",\n",
    "        \"http://lawv3.wkinfo.com.cn/topic/61000000448/10.HTML\",\n",
    "        \"http://lawv3.wkinfo.com.cn/topic/61000000448/11.HTML\",\n",
    "        \"http://lawv3.wkinfo.com.cn/topic/61000000448/12.HTML\",    \n",
    "    ]\n",
    "    print(\"\")\n",
    "    for url in urls:\n",
    "        print(url)\n",
    "        parseHtml(fetchUrl(url))\n",
    "        break"
   ]
  },
  {
   "cell_type": "code",
   "execution_count": null,
   "metadata": {},
   "outputs": [],
   "source": []
  }
 ],
 "metadata": {
  "kernelspec": {
   "display_name": "Python 3",
   "language": "python",
   "name": "python3"
  },
  "language_info": {
   "codemirror_mode": {
    "name": "ipython",
    "version": 3
   },
   "file_extension": ".py",
   "mimetype": "text/x-python",
   "name": "python",
   "nbconvert_exporter": "python",
   "pygments_lexer": "ipython3",
   "version": "3.7.3"
  }
 },
 "nbformat": 4,
 "nbformat_minor": 2
}
