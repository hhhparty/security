{
 "cells": [
  {
   "cell_type": "markdown",
   "metadata": {
    "slideshow": {
     "slide_type": "slide"
    }
   },
   "source": [
    "# Python编程入门（科学计算方向）\n",
    "\n",
    "## 引言\n",
    "\n",
    "\n",
    "计算机世界是一个神奇的世界！**她将一堆电路和一堆代码结合起来，极大丰富了人类的信息世界**，到目前为止仍在像宇宙大爆炸一样，不断地扩展着。\n",
    "\n",
    "人们想进入或操纵这个计算机世界的各种器件，需要掌握一些工具，例如：键盘、鼠标，更为重要的是计算机编程语言。这就像人类的语言奠定了人类世界产生和文明发展的基础一样，计算机编程语言为计算机世界奠定了基础。\n",
    "\n",
    "与人类语言的多样性类似，计算机编程语言也有很多种,目前最为流行的语言有Java、C、C++、Python等。\n",
    "\n",
    "![2018年流行的计算机编程语言](images\\0x00pythonbase\\plwordscloud.jpg)"
   ]
  },
  {
   "cell_type": "markdown",
   "metadata": {
    "slideshow": {
     "slide_type": "slide"
    }
   },
   "source": [
    "## Python简介\n",
    "\n",
    "Python是著名的“龟叔”Guido van Rossum在1989年圣诞节期间，为了打发无聊的圣诞节而编写的一个编程语言。\n",
    "\n",
    "过去10年中，Python在TIOBE排行榜上的热度不断上升。\n",
    "\n",
    "![2018年TIOBE编程社区热度](images\\0x00pythonbase\\2018TIOBEcommunityindex.png)\n",
    "\n",
    "数据来源：https://www.tiobe.com/tiobe-index/"
   ]
  },
  {
   "cell_type": "markdown",
   "metadata": {
    "slideshow": {
     "slide_type": "slide"
    }
   },
   "source": [
    "### Python 语言的优点\n",
    "\n",
    "Python: A programming language changes the world.\n",
    "- Python与C或Java对比，有很好的的编程\\部署、维护等方面的时间效率；\n",
    "  + Python被称为：The PL of the Agile Era;\n",
    "  + Less code means fewer errors, meaning the cost of identifying and eliminating these errors is also reduced.\n",
    "  + 各种各样、成百上千的支持库提供了高质量的代码，这些代码可以简单的整合在一起，满足各种需求。\n",
    "  + 非常完善的基础代码库，覆盖了网络、文件、GUI、数据库、文本等大量内容。\n",
    "  + Python哲学：“优雅”、“明确”、“简单”,尽量写容易看明白的代码，尽量写少的代码\n",
    "\n",
    "- Python是一种胶水语言；\n",
    "  + 既可以整合自己的库，还可以使用其它语言的代码；\n",
    "  + Python程序可以在任何安装了Python解释器的操作系统上；\n",
    "  \n",
    "- Python在各行业获得了巨大成功；\n",
    "  + 过去20年，Python在工业、服务业、科学计算、大数据、机器学习等领域有长足发展；\n",
    "  + 积极使用Python 的公司有Mozilla、Google、YouTube、Instagram、豆瓣、NASA...\n",
    "  "
   ]
  },
  {
   "cell_type": "markdown",
   "metadata": {
    "slideshow": {
     "slide_type": "slide"
    }
   },
   "source": [
    "### Python 语言的缺点\n",
    "\n",
    "- 运行速度较慢；\n",
    "- 代码不能加密。（不要高估自己写的代码真的有非常大的“商业价值”，大公司不愿意开源的普遍原因是代码质量较差。）"
   ]
  },
  {
   "cell_type": "markdown",
   "metadata": {
    "slideshow": {
     "slide_type": "slide"
    }
   },
   "source": [
    "### Python解释器的安装\n",
    "\n",
    "要开始学习Python编程，首先就得把Python解释器安装到你的电脑里。安装后Python解释器负责运行Python程序，它还是一个命令行交互环境、一个简单的集成开发环境。\n",
    "\n",
    "安装介质的下载站点是：https://www.python.org/downloads/\n",
    "\n",
    "- 在Mac上安装Python\n",
    "\n",
    "如果你正在使用Mac，系统是OS X>=10.9，那么系统自带的Python版本是2.7。要安装最新的Python 3.7，可以从Python官网下载Python 3.7的安装程序，双击运行并安装；\n",
    "\n",
    "- 在Linux上安装Python\n",
    "\n",
    "如果你正在使用Linux，系统通常自带Python2.7以上版本；假定你有Linux系统管理经验，自行安装Python 3应该没有问题。\n",
    "\n",
    "- 在Windows上安装Python\n",
    "\n",
    "首先，根据你的Windows版本（64位还是32位）从Python的官方网站下载Python 3.x对应的安装程序；其次，请运行下载的EXE安装包，按提示完成安装过程。\n"
   ]
  },
  {
   "cell_type": "markdown",
   "metadata": {
    "slideshow": {
     "slide_type": "slide"
    }
   },
   "source": [
    "## Python学习路线（面向机器学习基础）\n",
    "\n",
    "有关Python的教程和书籍很多，难度都不大，但完整的学习周期大约要20-40学时。\n",
    "\n",
    "对于有一定编程基础的同学，如何在1个小时内入门Python呢？\n",
    "\n",
    "一、选择关键内容：\n",
    "1. Python中的数据类型\n",
    "  - 基础类型、列表、字典、集合、字符串  \n",
    "2. Python中的运算符\n",
    "3. Python中的控制流\n",
    "4. Python中的函数\n",
    "5. Python中的类\n",
    "6. Python中的生成器\n",
    "7. Python中的包装器\n",
    "\n",
    "二、选择简易工具：\n",
    "\n",
    "1. IPython\n",
    "  - console、debugger、command line\n",
    "2. Jupyter notebook\n",
    "\n"
   ]
  },
  {
   "cell_type": "code",
   "execution_count": 28,
   "metadata": {},
   "outputs": [
    {
     "name": "stdout",
     "output_type": "stream",
     "text": [
      "Hello World!\n"
     ]
    }
   ],
   "source": [
    "# 第一个程序\n",
    "\"\"\"先来一个\n",
    "hello\n",
    "world\n",
    "\"\"\"\n",
    "print(\"Hello World!\")"
   ]
  },
  {
   "cell_type": "code",
   "execution_count": 1,
   "metadata": {},
   "outputs": [
    {
     "name": "stdout",
     "output_type": "stream",
     "text": [
      "请输入姓名：王大雷\n",
      "王大雷 同学，人生苦短，快用Python！\n",
      "王大雷 同学，人生苦短，快用Python！\n"
     ]
    }
   ],
   "source": [
    "name = input(\"请输入姓名：\")\n",
    "\n",
    "print(\"%s 同学，人生苦短，快用Python！\" % name)\n",
    "#另一种输出方式\n",
    "print(\"{} 同学，人生苦短，快用Python！\".format(name))"
   ]
  },
  {
   "cell_type": "markdown",
   "metadata": {
    "slideshow": {
     "slide_type": "slide"
    }
   },
   "source": [
    "## Python基本数据类型\n",
    "\n",
    "下面用实例介绍Python中的：整数、浮点数、指数、复数、布尔值、字符串等基本类型。"
   ]
  },
  {
   "cell_type": "code",
   "execution_count": 30,
   "metadata": {
    "slideshow": {
     "slide_type": "fragment"
    }
   },
   "outputs": [
    {
     "name": "stdout",
     "output_type": "stream",
     "text": [
      " a=2,\n",
      " b=5.00,\n",
      " c=8.300e+05,\n",
      " d=(1.5+0.5j), \n",
      " e=False,\n",
      " f=      word\n",
      " a=2,b=5.0,c=830000.0,d=(1.5+0.5j),e=False,f=word\n"
     ]
    }
   ],
   "source": [
    "\"\"\"Python中的基本数据类型\"\"\"\n",
    "a = 2           # integer\n",
    "b = 5.0         # float\n",
    "c = 8.3e5       # exponential\n",
    "d = 1.5 + 0.5j  # complex\n",
    "e = 4 > 5       # boolean\n",
    "f = 'word'      # string\n",
    "\n",
    "print(\" a=%d,\\n b=%.2f,\\n c=%.3e,\\n d=%r, \\n e=%s,\\n f=%10s\" % (a,b,c,d,e,f))\n",
    "#另一种输出方式\n",
    "print(\" a={},b={},c={},d={},e={},f={}\".format(a,b,c,d,e,f))"
   ]
  },
  {
   "cell_type": "markdown",
   "metadata": {
    "slideshow": {
     "slide_type": "slide"
    }
   },
   "source": [
    "## Python中的序列\n",
    "\n",
    "序列是Python中最基本的数据结构。Python序列为其中的每个元素都分配一个数字 ——即它的位置，或索引，第一个索引是0，第二个索引是1，依此类推。我们可以使用索引引用数据。\n",
    "\n",
    "Python有6个序列的内置类型，其中最常见的是列表、字典、元组、集合等。\n",
    "\n",
    "序列都可以进行的操作包括索引，切片，加，乘，检查成员。此外，Python已经内置确定序列的长度以及确定最大和最小的元素的方法。这些操作非常有用，是今后我们使用Python时最常见的操作。\n"
   ]
  },
  {
   "cell_type": "markdown",
   "metadata": {
    "slideshow": {
     "slide_type": "slide"
    }
   },
   "source": [
    "### 列表\n",
    "\n",
    "列表是最常用的Python数据类型，它可以作为一个方括号内的逗号分隔值出现。\n",
    "\n",
    "注意：列表的数据项不需要具有相同的类型。\n",
    "\n",
    "下面举例说明列表的定义与使用："
   ]
  },
  {
   "cell_type": "code",
   "execution_count": 2,
   "metadata": {
    "slideshow": {
     "slide_type": "fragment"
    }
   },
   "outputs": [
    {
     "name": "stdout",
     "output_type": "stream",
     "text": [
      "a=['red', 'blue', 'green']\n",
      "['blue', 'green']\n",
      "b=[0, 1, 2, 3, 4]\n",
      "a=['red', 'blue', 'green', 'yellow']\n",
      "a=['red', 'blue', 'green', 'yellow', 0, 1, 2, 3, 4]\n",
      "a=['red', 'yellow', 'blue', 'green', 'yellow', 0, 1, 2, 3, 4]\n"
     ]
    },
    {
     "data": {
      "text/plain": [
       "'blue'"
      ]
     },
     "execution_count": 2,
     "metadata": {},
     "output_type": "execute_result"
    }
   ],
   "source": [
    "\"\"\"Python中列表的定义与使用\"\"\"\n",
    "a = ['red', 'blue', 'green',]       # 定义列表a，并初始化a\n",
    "print(\"a={}\".format(a))\n",
    "print(a[1:3])                      # 利用索引，进行切片\n",
    "b = list(range(5))                 # 定义列表b, 并使用迭代器方法range() 初始化b\n",
    "print(\"b={}\".format(b))\n",
    "a.append('yellow')                 # 使用append方法，在列表a中增加一个字符串\n",
    "print(\"a={}\".format( a))         \n",
    "\n",
    "a.extend(b)                        # 将列表b，追加到列表a后面\n",
    "print(\"a={}\".format( a) )  \n",
    "a.insert(1, 'yellow')              # 在指定位置插入新元素（成员）\n",
    "print(\"a={}\".format( a) )  \n",
    "\n",
    "d = a.pop(2)  # 从列表中删除指定位置的元素（缺省时指最后）\n",
    "print(d)"
   ]
  },
  {
   "cell_type": "code",
   "execution_count": 56,
   "metadata": {},
   "outputs": [
    {
     "name": "stdout",
     "output_type": "stream",
     "text": [
      "c=[0, 1, 4, 9, 16]\n",
      "d=[0, 1, 4]\n",
      "e=0\n",
      "f=[1]\n",
      "g=16\n",
      "h=['re', 'bl', 'gr']\n",
      "i=['re', 're', 're', 're', 're']\n",
      "j=0\n"
     ]
    }
   ],
   "source": [
    "b = list(range(5))   \n",
    "c = [x**2 for x in b]            # 列表推导list comprehension\n",
    "print(\"c={}\".format(c))\n",
    "d = [nu**2 for nu in b if nu < 3]  # 条件列表推导 conditioned list comprehension\n",
    "print(\"d={}\".format(d))\n",
    "e = c[0]                           # 访问元素access element\n",
    "print(\"e={}\".format(e))\n",
    "f = c[1:2]                         # 访问列表的一个切片 access a slice of the list\n",
    "print(\"f={}\".format(f))\n",
    "g = c[-1]                          # 访问最后一个元素access last element\n",
    "print(\"g={}\".format(g))\n",
    "h = ['re', 'bl'] + ['gr']          # 列表连接list concatenation\n",
    "print(\"h={}\".format(h))\n",
    "i = ['re'] * 5                     # 生成一个内部元素全部相同的列表repeat a list\n",
    "print(\"i={}\".format(i))\n",
    "j = ['re', 'bl'].index('re')       # 返回列表元素的索引returns index of 're'\n",
    "print(\"j={}\".format(j))"
   ]
  },
  {
   "cell_type": "code",
   "execution_count": 55,
   "metadata": {},
   "outputs": [
    {
     "name": "stdout",
     "output_type": "stream",
     "text": [
      "True\n",
      "True\n",
      "[1, 2, 3, 4, 5]\n"
     ]
    }
   ],
   "source": [
    "print(  're' in ['re', 'bl']  )    # 判断元素是否包含在列表中，true if 're' in list\n",
    "print( 'fi' not in ['re', 'bl'] )  # 判断元素是否不包含在列表中，true if 'fi' not in list\n",
    "s = sorted([3, 2,4,5, 1])\n",
    "print(s)                           # 对列表进行排序returns sorted list"
   ]
  },
  {
   "cell_type": "markdown",
   "metadata": {
    "slideshow": {
     "slide_type": "slide"
    }
   },
   "source": [
    "### 字典\n",
    "\n",
    "字典是另一种可变容器模型，且可存储任意类型对象。\n",
    "\n",
    "字典的每个键值(key=>value)对用冒号(:)分割，每个对之间用逗号(,)分割，整个字典包括在花括号({})中。\n",
    "\n",
    "下面举例说明："
   ]
  },
  {
   "cell_type": "code",
   "execution_count": 67,
   "metadata": {
    "slideshow": {
     "slide_type": "fragment"
    }
   },
   "outputs": [
    {
     "name": "stdout",
     "output_type": "stream",
     "text": [
      "c=['rouge', 'bleu']\n",
      "d=no translation found\n",
      "a={'red': 'rouge', 'blue': 'bleu', 'extra': ['cyan']}\n",
      "a={'red': 'rouge', 'blue': 'bleu', 'extra': ['cyan'], 'green': 'vert', 'brown': 'brun'}\n",
      "dict_keys(['red', 'blue', 'extra', 'green', 'brown'])\n",
      "dict_values(['rouge', 'bleu', ['cyan'], 'vert', 'brun'])\n",
      "dict_items([('red', 'rouge'), ('blue', 'bleu'), ('extra', ['cyan']), ('green', 'vert'), ('brown', 'brun')])\n",
      "a={'blue': 'bleu', 'extra': ['cyan'], 'green': 'vert', 'brown': 'brun'}\n",
      "a={'extra': ['cyan'], 'green': 'vert', 'brown': 'brun'}\n"
     ]
    }
   ],
   "source": [
    "\"\"\"Python中字典的定义与使用\"\"\"\n",
    "a = {'red': 'rouge', 'blue': 'bleu'}         # 定义字典dictionary\n",
    "b = a['red']                                 # 根据键值，获取内容translate item\n",
    "print('red' in a)                                   # 若键在字典中，则返回True。true if dictionary a contains key 'red')\n",
    "c = [value for key, value in a.items()]      # 循环获取字典中的全部内容loop through contents\n",
    "print(\"c={}\".format(c))\n",
    "d = a.get('red')\n",
    "d = a.get('yellow', 'no translation found')  # 返回键yellow指定的内容，若不存在则返回默认的内容return default\n",
    "print(\"d={}\".format(d))\n",
    "a.setdefault('extra', []).append('cyan')     # 以默认值初始化新增键的内容 init key with default\n",
    "print(\"a={}\".format(a))\n",
    "a.update({'green': 'vert', 'brown': 'brun'}) # 将另一个字典追加到字典a后面update dictionary by data from another one\n",
    "print(\"a={}\".format(a))\n",
    "print( a.keys() )                            # 以列表形式返回所有的键 get list of keys\n",
    "print( a.values() )                          # 以列表形式返回所有内容 get list of values\n",
    "\n",
    "print( a.items() )                           # 以列表形式返回所有键和内容组成的元组 get list of key-value pairs\n",
    "del a['red']                                 # 删除字典a中键red和相关联内容 delete key and associated with it value\n",
    "print(\"a={}\".format(a))\n",
    "a.pop('blue')                                # 删除指定键并返回对应内容remove specified key and return the corresponding value\n",
    "print(\"a={}\".format(a))"
   ]
  },
  {
   "cell_type": "markdown",
   "metadata": {
    "slideshow": {
     "slide_type": "slide"
    }
   },
   "source": [
    "### 元组\n",
    "\n",
    "Python 的元组与列表类似，不同之处在于元组的元素不能修改。\n",
    "\n",
    "元组使用小括号，列表使用方括号。\n",
    "\n",
    "元组创建很简单，只需要在括号中添加元素，并使用逗号隔开即可。下面举例说明："
   ]
  },
  {
   "cell_type": "code",
   "execution_count": 1,
   "metadata": {
    "slideshow": {
     "slide_type": "fragment"
    }
   },
   "outputs": [
    {
     "name": "stdout",
     "output_type": "stream",
     "text": [
      "tup1=('Google', 'Runoob', 1997, 2000)\n",
      "tup2=(1, 2, 3, 4, 5)\n",
      "tup3=('a', 'b', 'c', 'd')\n"
     ]
    }
   ],
   "source": [
    "\"\"\"Python中元组的定义与使用\"\"\"\n",
    "\n",
    "tup1 = ('Google', 'Runoob', 1997, 2000)  # 定义元组\n",
    "tup2 = (1, 2, 3, 4, 5 )\n",
    "tup3 = \"a\", \"b\", \"c\", \"d\"   #  不需要括号也可以定义元组\n",
    "print(\"tup1={}\".format(tup1))\n",
    "print(\"tup2={}\".format(tup2))\n",
    "print(\"tup3={}\".format(tup3))"
   ]
  },
  {
   "cell_type": "markdown",
   "metadata": {
    "slideshow": {
     "slide_type": "slide"
    }
   },
   "source": [
    "### 集合\n",
    "\n",
    "集合（set）是一个无序的不重复元素序列。\n",
    "\n",
    "可以使用大括号 { } 或者 set() 函数创建集合，注意：创建一个空集合必须用 set() 而不是 { }，因为 { } 是用来创建一个空字典。"
   ]
  },
  {
   "cell_type": "code",
   "execution_count": 2,
   "metadata": {
    "slideshow": {
     "slide_type": "fragment"
    }
   },
   "outputs": [
    {
     "name": "stdout",
     "output_type": "stream",
     "text": [
      "a={1, 2, 3}\n",
      "{1}\n",
      "b={0, 1, 2, 3, 4}\n",
      "a={1, 2, 3, 13}\n",
      "a={1, 2, 3}\n",
      "a={1, 2, 3, 21, 22, 23}\n",
      "a={2, 3, 21, 22, 23}\n",
      "a={2, 3, 21, 22, 23}\n",
      "b={0, 1, 2, 3, 4}\n",
      "a.issubset(b) = False\n",
      "a <= b 的结果：False\n",
      "a.issuperset(b) = False\n",
      "a >=  b 的结果：False\n",
      "a.intersection(b)的结果：{2, 3}\n",
      "a.difference(b)的结果：{21, 22, 23}\n",
      "a - b 的结果：{21, 22, 23}\n",
      "a.symmetric_difference(b) 的结果：{0, 1, 4, 21, 22, 23} \n",
      "a.union(b) 的结果：{0, 1, 2, 3, 4, 21, 22, 23} \n",
      "c ：frozenset({1, 2, 3}) \n"
     ]
    },
    {
     "ename": "AttributeError",
     "evalue": "'frozenset' object has no attribute 'add'",
     "output_type": "error",
     "traceback": [
      "\u001b[1;31m---------------------------------------------------------------------------\u001b[0m",
      "\u001b[1;31mAttributeError\u001b[0m                            Traceback (most recent call last)",
      "\u001b[1;32m<ipython-input-2-732fbd35b375>\u001b[0m in \u001b[0;36m<module>\u001b[1;34m\u001b[0m\n\u001b[0;32m     31\u001b[0m \u001b[0mc\u001b[0m \u001b[1;33m=\u001b[0m \u001b[0mfrozenset\u001b[0m\u001b[1;33m(\u001b[0m\u001b[1;33m[\u001b[0m\u001b[1;36m1\u001b[0m\u001b[1;33m,\u001b[0m \u001b[1;36m2\u001b[0m\u001b[1;33m,\u001b[0m \u001b[1;36m3\u001b[0m\u001b[1;33m]\u001b[0m\u001b[1;33m)\u001b[0m\u001b[1;33m\u001b[0m\u001b[1;33m\u001b[0m\u001b[0m\n\u001b[0;32m     32\u001b[0m \u001b[0mprint\u001b[0m\u001b[1;33m(\u001b[0m\u001b[1;34m\"c ：{} \"\u001b[0m\u001b[1;33m.\u001b[0m\u001b[0mformat\u001b[0m\u001b[1;33m(\u001b[0m \u001b[0mc\u001b[0m\u001b[1;33m)\u001b[0m\u001b[1;33m)\u001b[0m  \u001b[1;31m# 返回一个元素不可改变的集合 the same as set but immutable\u001b[0m\u001b[1;33m\u001b[0m\u001b[1;33m\u001b[0m\u001b[0m\n\u001b[1;32m---> 33\u001b[1;33m \u001b[0mc\u001b[0m\u001b[1;33m.\u001b[0m\u001b[0madd\u001b[0m\u001b[1;33m(\u001b[0m\u001b[1;36m4\u001b[0m\u001b[1;33m)\u001b[0m\u001b[1;33m\u001b[0m\u001b[1;33m\u001b[0m\u001b[0m\n\u001b[0m",
      "\u001b[1;31mAttributeError\u001b[0m: 'frozenset' object has no attribute 'add'"
     ]
    }
   ],
   "source": [
    "\"\"\"Python中集合的定义与使用\"\"\"\n",
    "\n",
    "a = {1, 2, 3}                                # 初始化一个集合 initialize manually\n",
    "print(\"a={}\".format(a))\n",
    "d = {1,1,1,1}\n",
    "print(d)\n",
    "b = set(range(5))                            # 使用迭代器生成集合 initialize from iteratable\n",
    "print(\"b={}\".format(b))\n",
    "a.add(13)                                    # 向集合中增加元素add new element to set\n",
    "print(\"a={}\".format(a))\n",
    "a.discard(13)                                # 从集合中删除元素 discard element from set\n",
    "print(\"a={}\".format(a))\n",
    "a.update([21, 22,22, 23])                       # 向集合追加元素 update set with elements from iterable\n",
    "print(\"a={}\".format(a))\n",
    "a.pop()                                      # 删除并返回任一个集合元素 remove and return an arbitrary set element\n",
    "print(\"a={}\".format(a))\n",
    "2 in {1, 2, 3}                               # 若2在集合中，则返回True 。true if 2 in set\n",
    "5 not in {1, 2, 3}                           # 若5不在集合中，则返回True。true if 5 not in set\n",
    "print(\"a={}\".format(a))\n",
    "print(\"b={}\".format(b))\n",
    "print(\"a.issubset(b) = {}\".format(a.issubset(b)))   # 测试集合a是否为集合b的子集 test whether every element in a is in b\n",
    "\n",
    "print(\"a <= b 的结果：{}\".format(a <= b))    # 使用 <= 判断a是否为b的子集\n",
    "print(\"a.issuperset(b) = {}\".format( a.issuperset(b) ))  # 测试集合a是否为集合b的超集\n",
    "print(\"a >=  b 的结果：{}\".format(a >= b))   # 使用 <= 判断a是否为b的超集\n",
    "print(\"a.intersection(b)的结果：{}\".format(a.intersection(b))) # 返回集合a与b的交集 return the intersection of two sets as a new set\n",
    "print(\"a.difference(b)的结果：{}\".format(a.difference(b)))     # 返回集合a-集合b，即a与b的差集。 return the difference of two or more sets as a new set\n",
    "print(\"a - b 的结果：{}\".format(a - b))      # difference in operator form\n",
    "print(\"a.symmetric_difference(b) 的结果：{} \".format(a.symmetric_difference(b)))  # return the symmetric difference of two sets as a new set\n",
    "print(\"a.union(b) 的结果：{} \".format(a.union(b)))         # 返回集合a与b的并集 return the union of sets as a new set\n",
    "c = frozenset([1, 2, 3]) \n",
    "print(\"c ：{} \".format( c))  # 返回一个元素不可改变的集合 the same as set but immutable\n",
    "c.add(4) "
   ]
  },
  {
   "cell_type": "markdown",
   "metadata": {
    "slideshow": {
     "slide_type": "slide"
    }
   },
   "source": [
    "### 字符串\n",
    "\n",
    "字符串是 Python 中最常用的数据类型。我们可以使用引号( ' 或 \" )来创建字符串。\n",
    "\n",
    "创建字符串很简单，只要为变量分配一个值即可。"
   ]
  },
  {
   "cell_type": "code",
   "execution_count": 89,
   "metadata": {
    "slideshow": {
     "slide_type": "fragment"
    }
   },
   "outputs": [
    {
     "name": "stdout",
     "output_type": "stream",
     "text": [
      "a的内容：red\n",
      "char的内容：d\n",
      "'red ' + 'blue' ：red blue\n",
      "'1, 2, three'.split(',') 的结果 ：['1', ' 2', ' three']\n",
      "'.'.join(['1', '2', 'three'])的结果 ：1.2.three\n"
     ]
    }
   ],
   "source": [
    "\"\"\"Python中字符串的定义与使用\n",
    "\"\"\"\n",
    "\n",
    "a = 'red'                      # 定义一个字符串对象 assignment\n",
    "print(\"a的内容：{}\".format(a))\n",
    "char = a[2]                    # 使用index访问单独字符access individual characters\n",
    "print(\"char的内容：{}\".format(char))\n",
    "'red ' + 'blue'                # 字符串连接 string concatenation\n",
    "print(\"'red ' + 'blue' ：{}\".format('red ' + 'blue' ))\n",
    "'1, 2, three'.split(',')       # 使用，对字符串进行切片。split string into list\n",
    "print(\"'1, 2, three'.split(',') 的结果 ：{}\".format('1, 2, three'.split(',')  ))\n",
    "'.'.join(['1', '2', 'three'])  # 使用.作为连接符，将一个列表拼接为一个字符串 concatenate list into string\n",
    "print(\"'.'.join(['1', '2', 'three'])的结果 ：{}\".format('.'.join(['1', '2', 'three'])))"
   ]
  },
  {
   "cell_type": "markdown",
   "metadata": {
    "slideshow": {
     "slide_type": "slide"
    }
   },
   "source": [
    "## Python的运算符\n",
    "\n",
    "Python语言支持以下类型的运算符:\n",
    "\n",
    "- 算术运算符\n",
    "- 比较（关系）运算符\n",
    "- 赋值运算符\n",
    "- 逻辑运算符\n",
    "- 位运算符\n",
    "- 成员运算符\n",
    "- 身份运算符\n",
    "- 运算符优先级\n",
    "\n",
    "下面举例说明："
   ]
  },
  {
   "cell_type": "code",
   "execution_count": 36,
   "metadata": {
    "slideshow": {
     "slide_type": "slide"
    }
   },
   "outputs": [
    {
     "data": {
      "text/plain": [
       "False"
      ]
     },
     "execution_count": 36,
     "metadata": {},
     "output_type": "execute_result"
    }
   ],
   "source": [
    "\"\"\"Python中的运算符\"\"\"\n",
    "\n",
    "a = 2             # 定义与赋值assignment\n",
    "a += 1            # 自增change and assign，类似的还有 (*=, /=)  \n",
    "3 + 2             # addition\n",
    "3 / 2             # integer (python2) or float (python3) division\n",
    "3 // 2            # integer division\n",
    "3 * 2             # multiplication\n",
    "3 ** 2            # exponent\n",
    "3 % 2             # remainder\n",
    "abs(a)            # absolute value\n",
    "1 == 1            # equal\n",
    "2 > 1             # larger\n",
    "2 < 1             # smaller\n",
    "1 != 2            # not equal\n",
    "1 != 2 and 2 < 3  # logical AND\n",
    "1 != 2 or 2 < 3   # logical OR\n",
    "not 1 == 2        # logical NOT\n",
    "c = []\n",
    "'a' in c          # test if a is in b\n",
    "a is b            # test if objects point to the same memory (id)"
   ]
  },
  {
   "cell_type": "markdown",
   "metadata": {
    "slideshow": {
     "slide_type": "slide"
    }
   },
   "source": [
    "## Python的控制流\n",
    "\n",
    "有3种控制流：顺序、选择、循环。这三种控制方式的复合，能够实现各种程序执行过程。\n"
   ]
  },
  {
   "cell_type": "markdown",
   "metadata": {
    "slideshow": {
     "slide_type": "slide"
    }
   },
   "source": [
    "### Python中的选择控制"
   ]
  },
  {
   "cell_type": "code",
   "execution_count": 10,
   "metadata": {
    "slideshow": {
     "slide_type": "fragment"
    }
   },
   "outputs": [
    {
     "name": "stdout",
     "output_type": "stream",
     "text": [
      "True\n"
     ]
    }
   ],
   "source": [
    "\"\"\"Python中的选择控制流\"\"\"\n",
    "\n",
    "# if/elif/else\n",
    "a, b = 1, 2\n",
    "if a + b == 3:\n",
    "    print('True')\n",
    "elif a + b > 1:\n",
    "    print('False')\n",
    "else:\n",
    "    print('?')"
   ]
  },
  {
   "cell_type": "markdown",
   "metadata": {
    "slideshow": {
     "slide_type": "slide"
    }
   },
   "source": [
    "### Python中的 for 循环控制"
   ]
  },
  {
   "cell_type": "code",
   "execution_count": 38,
   "metadata": {
    "scrolled": true,
    "slideshow": {
     "slide_type": "fragment"
    }
   },
   "outputs": [
    {
     "name": "stdout",
     "output_type": "stream",
     "text": [
      "red\n",
      "blue\n",
      "green\n"
     ]
    }
   ],
   "source": [
    "\"\"\"Python中的 for 循环控制流\"\"\"\n",
    "\n",
    "a = ['red', 'blue', 'green']\n",
    "for color in a:\n",
    "    print(color)\n"
   ]
  },
  {
   "cell_type": "markdown",
   "metadata": {
    "slideshow": {
     "slide_type": "slide"
    }
   },
   "source": [
    "### Python中的 while 循环控制"
   ]
  },
  {
   "cell_type": "code",
   "execution_count": 39,
   "metadata": {
    "scrolled": false,
    "slideshow": {
     "slide_type": "fragment"
    }
   },
   "outputs": [
    {
     "name": "stdout",
     "output_type": "stream",
     "text": [
      "1\n",
      "2\n",
      "3\n",
      "4\n",
      "5\n",
      "6\n",
      "7\n",
      "8\n",
      "9\n",
      "1\n",
      "2\n",
      "3\n",
      "4\n",
      "5\n",
      "6\n",
      "7\n",
      "8\n",
      "9\n",
      "10\n"
     ]
    }
   ],
   "source": [
    "\"\"\"Python中的 while 循环控制流\"\"\"\n",
    "number = 1\n",
    "while number < 10:\n",
    "    print(number)\n",
    "    number += 1\n",
    "\n",
    "# break\n",
    "number = 1\n",
    "while True:\n",
    "    print(number)\n",
    "    number += 1\n",
    "    if number > 10:\n",
    "        break"
   ]
  },
  {
   "cell_type": "markdown",
   "metadata": {
    "slideshow": {
     "slide_type": "slide"
    }
   },
   "source": [
    "### Python循环控制的中止"
   ]
  },
  {
   "cell_type": "code",
   "execution_count": 40,
   "metadata": {
    "slideshow": {
     "slide_type": "fragment"
    }
   },
   "outputs": [
    {
     "name": "stdout",
     "output_type": "stream",
     "text": [
      "1\n",
      "3\n",
      "5\n",
      "7\n",
      "9\n",
      "11\n",
      "13\n",
      "15\n",
      "17\n",
      "19\n"
     ]
    }
   ],
   "source": [
    "# continue\n",
    "for i in range(20):\n",
    "    if i % 2 == 0:\n",
    "        continue # break\n",
    "    print(i)"
   ]
  },
  {
   "cell_type": "markdown",
   "metadata": {
    "slideshow": {
     "slide_type": "slide"
    }
   },
   "source": [
    "## Python中的函数\n",
    "\n",
    "函数是组织好的，可重复使用的，用来实现单一，或相关联功能的代码段。\n",
    "\n",
    "函数能提高应用的模块性，和代码的重复利用率。Python本身提供了许多内建函数，比如print()。\n",
    "\n",
    "我们呢也可以自己创建函数，这被叫做用户自定义函数。"
   ]
  },
  {
   "cell_type": "code",
   "execution_count": 41,
   "metadata": {
    "slideshow": {
     "slide_type": "fragment"
    }
   },
   "outputs": [
    {
     "name": "stdout",
     "output_type": "stream",
     "text": [
      "32\n"
     ]
    }
   ],
   "source": [
    "\"\"\"Python中的函数\"\"\"\n",
    "\n",
    "def myfunc(a1, a2):\n",
    "    return a1 + a2\n",
    "\n",
    "x = myfunc(10, 22)\n",
    "print(x)"
   ]
  },
  {
   "cell_type": "markdown",
   "metadata": {
    "slideshow": {
     "slide_type": "slide"
    }
   },
   "source": [
    "## Python中的类\n",
    "\n",
    "类(Class)是一个面向对象概念，用来描述具有相同的属性和方法的对象的集合。它定义了该集合中每个对象所共有的属性和方法。对象是类的实例。\n",
    "\n",
    "类中定义的函数，被称为类的**方法**；\n",
    "类中定义的变量，被称为**类的属性或类变量**；\n",
    "通过类定义的数据结构实例，被称为某类的**对象或实例**；"
   ]
  },
  {
   "cell_type": "code",
   "execution_count": 42,
   "metadata": {
    "slideshow": {
     "slide_type": "fragment"
    }
   },
   "outputs": [],
   "source": [
    "\"\"\"Python中的类\"\"\"\n",
    "\n",
    "class Point(object):\n",
    "    def __init__(self, x):\n",
    "        self.x = x\n",
    "    def __call__(self):\n",
    "        print(self.x)\n",
    "\n",
    "x = Point(3)"
   ]
  },
  {
   "cell_type": "markdown",
   "metadata": {
    "slideshow": {
     "slide_type": "slide"
    }
   },
   "source": [
    "## Python中的生成器\n",
    "\n",
    "在 Python 中，使用了 yield 的函数被称为生成器（generator）。\n",
    "\n",
    "跟普通函数不同的是，生成器是一个返回迭代器的函数，只能用于迭代操作，更简单点理解生成器就是一个迭代器。\n",
    "\n",
    "在调用生成器运行的过程中，每次遇到 yield 时函数会暂停并保存当前所有的运行信息，返回 yield 的值, 并在下一次执行 next() 方法时从当前位置继续运行。\n",
    "\n",
    "调用一个生成器函数，返回的是一个迭代器对象。"
   ]
  },
  {
   "cell_type": "code",
   "execution_count": 43,
   "metadata": {
    "slideshow": {
     "slide_type": "fragment"
    }
   },
   "outputs": [],
   "source": [
    "\"\"\"Python中的生成器\"\"\"\n",
    "\n",
    "def firstn(n):\n",
    "    num = 0\n",
    "    while num < n:\n",
    "        yield num\n",
    "        num += 1\n",
    "\n",
    "x = [i for i in firstn(10)]"
   ]
  },
  {
   "cell_type": "markdown",
   "metadata": {
    "slideshow": {
     "slide_type": "slide"
    }
   },
   "source": [
    "## Python中的装饰器（decorator）\n",
    "\n",
    "假设我们要增强某个函数的功能，但又不修改原先函数的定义，这种在运行时动态增加功能的方式，称之为“装饰器”（Decorator）。\n",
    "\n",
    "本质上，decorator就是一个返回函数的高阶函数。"
   ]
  },
  {
   "cell_type": "code",
   "execution_count": 44,
   "metadata": {
    "slideshow": {
     "slide_type": "fragment"
    }
   },
   "outputs": [
    {
     "name": "stdout",
     "output_type": "stream",
     "text": [
      "call\n",
      "func\n"
     ]
    }
   ],
   "source": [
    "class myDecorator(object):\n",
    "    def __init__(self, f):\n",
    "        self.f = f\n",
    "    def __call__(self):\n",
    "        print(\"call\")\n",
    "        self.f()\n",
    "\n",
    "@myDecorator\n",
    "def my_funct():\n",
    "    print('func')\n",
    "\n",
    "my_funct()"
   ]
  },
  {
   "cell_type": "markdown",
   "metadata": {
    "slideshow": {
     "slide_type": "slide"
    }
   },
   "source": [
    "## IPython编程工具\n",
    "\n",
    "IPython 是一个 python 的交互式 shell，比默认的python shell 好用得多，支持变量自动补全，自动缩进，支持 bash shell 命令，内置了许多很有用的功能和函数。\n",
    "\n",
    "###  控制台命令（console）\n"
   ]
  },
  {
   "cell_type": "code",
   "execution_count": 45,
   "metadata": {
    "slideshow": {
     "slide_type": "fragment"
    }
   },
   "outputs": [
    {
     "ename": "SyntaxError",
     "evalue": "invalid syntax (<ipython-input-45-466d566329cd>, line 1)",
     "output_type": "error",
     "traceback": [
      "\u001b[1;36m  File \u001b[1;32m\"<ipython-input-45-466d566329cd>\"\u001b[1;36m, line \u001b[1;32m1\u001b[0m\n\u001b[1;33m    <object>?                   # Information about the object\u001b[0m\n\u001b[1;37m    ^\u001b[0m\n\u001b[1;31mSyntaxError\u001b[0m\u001b[1;31m:\u001b[0m invalid syntax\n"
     ]
    }
   ],
   "source": [
    "<object>?                   # Information about the object\n",
    "<object>.<TAB>              # tab completion\n",
    "\n",
    "# run scripts / profile / debug\n",
    "%run myscript.py\n",
    "\n",
    "%timeit range(1000)         # measure runtime of statement\n",
    "%run -t  myscript.py        # measure script execution time\n",
    "\n",
    "%prun <statement>           # run statement with profiler\n",
    "%prun -s <key> <statement>  # sort by key, e.g. \"cumulative\" or \"calls\"\n",
    "%run -p  myfile.py          # profile script\n",
    "\n",
    "%run -d myscript.py         # run script in debug mode\n",
    "%debug                      # jumps to the debugger after an exception\n",
    "%pdb                        # run debugger automatically on exception\n",
    "\n",
    "# examine history\n",
    "%history\n",
    "%history ~1/1-5  # lines 1-5 of last session\n",
    "\n",
    "# run shell commands\n",
    "!make  # prefix command with \"!\"\n",
    "\n",
    "# clean namespace\n",
    "%reset\n",
    "\n",
    "# run code from clipboard\n",
    "%paste"
   ]
  },
  {
   "cell_type": "markdown",
   "metadata": {
    "slideshow": {
     "slide_type": "slide"
    }
   },
   "source": [
    "### 12.2 debugger命令"
   ]
  },
  {
   "cell_type": "code",
   "execution_count": null,
   "metadata": {
    "slideshow": {
     "slide_type": "fragment"
    }
   },
   "outputs": [],
   "source": [
    "\n",
    "n               # execute next line\n",
    "b 42            # set breakpoint in the main file at line 42\n",
    "b myfile.py:42  # set breakpoint in 'myfile.py' at line 42\n",
    "c               # continue execution\n",
    "l               # show current position in the code\n",
    "p data          # print the 'data' variable\n",
    "pp data         # pretty print the 'data' variable\n",
    "s               # step into subroutine\n",
    "a               # print arguments that a function received\n",
    "pp locals()     # show all variables in local scope\n",
    "pp globals()    # show all variables in global scope"
   ]
  },
  {
   "cell_type": "markdown",
   "metadata": {
    "slideshow": {
     "slide_type": "slide"
    }
   },
   "source": [
    "### 12.3 command line命令"
   ]
  },
  {
   "cell_type": "code",
   "execution_count": null,
   "metadata": {
    "slideshow": {
     "slide_type": "fragment"
    }
   },
   "outputs": [],
   "source": [
    "ipython --pdb -- myscript.py argument1 --option1  # debug after exception\n",
    "ipython -i -- myscript.py argument1 --option1     # console after finish"
   ]
  }
 ],
 "metadata": {
  "celltoolbar": "Slideshow",
  "kernelspec": {
   "display_name": "Python 3",
   "language": "python",
   "name": "python3"
  },
  "language_info": {
   "codemirror_mode": {
    "name": "ipython",
    "version": 3
   },
   "file_extension": ".py",
   "mimetype": "text/x-python",
   "name": "python",
   "nbconvert_exporter": "python",
   "pygments_lexer": "ipython3",
   "version": "3.7.1"
  },
  "toc": {
   "base_numbering": 1,
   "nav_menu": {},
   "number_sections": true,
   "sideBar": true,
   "skip_h1_title": false,
   "title_cell": "Table of Contents",
   "title_sidebar": "Contents",
   "toc_cell": false,
   "toc_position": {
    "height": "calc(100% - 180px)",
    "left": "10px",
    "top": "150px",
    "width": "231.063px"
   },
   "toc_section_display": true,
   "toc_window_display": false
  }
 },
 "nbformat": 4,
 "nbformat_minor": 2
}
