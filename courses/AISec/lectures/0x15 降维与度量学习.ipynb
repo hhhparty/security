{
 "cells": [
  {
   "cell_type": "markdown",
   "metadata": {},
   "source": [
    "# 降维与度量\n",
    "\n",
    "之前讨论kNN学习时，我们基于一个重要的假设：\n",
    "\n",
    "> 任意测试样本x附近任意小的$\\delta$距离范围内总能找到一个训练样本，即训练样本的采样密度足够大，或称为“密采样”（dense sample）。\n",
    "\n",
    "然而，这个假设在现实任务中通常很难满足，例如，若$\\delta=0.001$，仅考虑单个属性，则仅需1000个样本点平均分布在归一化后的属性取值范围内，即可使得任意测试样本在其附近0.001距离范围内总能找到一个训练样本，此时最近邻分类器（kNN）的错误率不超过贝叶斯最优分类器的错误率的两倍。\n",
    "\n",
    "然而这仅是属性维数为1的情形，若有更多的属性，则情况显著变化，假定属性维数为20，若要求样本满足上述密采样条件，则至少需要$(10^3)^{20} = 10^{60}$个样本。现实应用中属性维数经常成千上万，要满足密采样条件所需的样本数目是无法达到的天文数字。\n",
    "\n",
    "此外，很多学习方法都涉及距离计算（kNN，K-means等等），而高维空间会给距离计算带来很大的麻烦，例如当维数很高时甚至连计算内积都不容易。\n",
    "\n",
    "**事实上，在高维情形下出现的数据样本稀疏、距离计算困难等问题，是所有机器学习方法共同面临的严重障碍，被称为“维数灾难”（curse of dimensionality).**\n",
    "\n",
    "缓解维数灾难的一个重要途径是降维（dimension reduction），亦称为**“维数约简”，即通过某种数学变换将原始高维属性空间转变为一个低维“子空间”（subspace），在这个子空间中样本密度大幅提高，距离计算也变得更为容易。**\n",
    "\n",
    "为什么能进行降维？\n",
    "\n",
    "这是因为在很多时候，人们观测或收集到的数据样本虽然是高维的，但与学习任务密切相关的也许仅是某个低维分布，即**高维空间中的一个低维“嵌入”（embedding）**。下图给出了一个直观的例子。原始高维空间中的样本点，在这个低维嵌入子空间中更容易进行学习。\n",
    "\n",
    "![低维嵌入示意图](images/dimreduction/低维嵌入示意图.png)"
   ]
  },
  {
   "cell_type": "markdown",
   "metadata": {},
   "source": [
    "若要求原始空间中样本之间的距离在低维空间中得以保持，如图10.2所示，即得到“多维缩放”（Multiple Dimensional Scaling，简称MDS）这样一种经典的降维方法。"
   ]
  },
  {
   "cell_type": "markdown",
   "metadata": {},
   "source": [
    "## 主成分分析\n",
    "\n",
    "主成分分析（Principal Component Analysis，PCA)是最常用的一种降维方法。\n",
    "\n",
    "先考虑一个问题：对于正交属性空间中的样本点，如何用一个超平面（直线的高维推广）对所有样本进行恰当的表达？\n",
    "\n",
    "容易想到，若存在这样的一个超平面，那么它大概应具有这样的性质：\n",
    "\n",
    "- 最近重构性：样本点到这个超平面的距离都足够近；\n",
    "- 最大可分性：样本点在这个超平面上的投影能尽可能分开。\n",
    "\n",
    "有趣的是，基于最近重构性和最大可分性，能分别得到主成分分析的两种等价推导。\n",
    "\n",
    "（Todo：推导过程）"
   ]
  },
  {
   "cell_type": "markdown",
   "metadata": {},
   "source": [
    "PCA仅需保留W与样木的均值向量即可通过简单的向量减法和矩阵-向量乘法将新样本投影至低维空间中。\n",
    "\n",
    "显然，低维空间与原始高维空间必有不同，因为对应于最小的d一d'个特征值的特征向量被舍弃了，这是降维导致的结果。但舍弃这部分信息往往是必要的：\n",
    "- 一方面，舍弃这部分信息之后能使样本的采样密度增大，这正是降维的重要动机;\n",
    "- 另一方面，当数据受到噪声影响时，最小的特征值所对应的特征向量往往与噪声有关。将它们舍弃能在一定程度上起到去噪的效果.\n"
   ]
  },
  {
   "cell_type": "markdown",
   "metadata": {},
   "source": [
    "### sklearn中的PCA应用\n",
    "\n",
    "class sklearn.decomposition.PCA(n_components=None, copy=True, whiten=False, svd_solver='auto', tol=0.0, iterated_power='auto', random_state=None)\n",
    "\n",
    "- n_components：这个参数可以帮我们指定希望PCA降维后的特征维度数目。\n",
    "  + 最常用的做法是直接指定降维到的维度数目，此时n_components是一个大于等于1的整数；\n",
    "  + 也可以指定主成分的方差和所占的最小比例阈值，让PCA类自己去根据样本特征方差来决定降维到的维度数，此时n_components是一个（0，1]之间的数；\n",
    "  + 还可以将参数设置为'mle'(极大似然估计)，此时PCA类会用MLE算法根据特征的方差分布情况自己去选择一定数量的主成分特征来降维；\n",
    "  + 也可以用默认值，即不输入n_components，此时n_components=min(样本数，特征数)。\n",
    "  \n",
    "- copy： 表示是否在运行算法时，将原始数据复制一份。默认为True，则运行PCA算法后，原始数据的值不会有任何改变。因为是在原始数据的副本上进行运算的。\n",
    "\n",
    "- whiten： 白化。所谓白化，就是对降维后的数据的每个特征进行标准化，让方差都为1。对于PCA降维本身来说，一般不需要白化。如果你PCA降维后有后续的数据处理动作，可以考虑白化。默认值是False，即不进行白化。\n",
    "\n",
    "- svd_solver：即指定奇异值分解SVD的方法，由于特征分解是奇异值分解SVD的一个特例，一般的PCA库都是基于SVD实现的。有4个可以选择的值：{‘auto’, ‘full’, ‘arpack’, ‘randomized’}。\n",
    "\n",
    "  + 'randomized' 一般适用于数据量大，数据维度多同时主成分数目比例又较低的PCA降维，它使用了一些加快SVD的随机算法。\n",
    "  + 'full' 则是传统意义上的SVD，使用了scipy库对应的实现。\n",
    "  + 'arpack' 和randomized的适用场景类似，区别是randomized使用的是scikit-learn自己的SVD实现，而arpack直接使用了scipy库的sparse SVD实现。当svd_solve设置为'arpack'时，保留的成分必须少于特征数，即不能保留所有成分。\n",
    "  + 默认是'auto'，即PCA类会自己去在前面讲到的三种算法里面去权衡，选择一个合适的SVD算法来降维。一般来说，使用默认值就够了。\n",
    "  \n",
    "注意：当设置 n_components == 'mle'时，需要和参数svd_solver一起使用，且svd_solver需要选择 'full' 参数。同时要保证输入数据的样本数多于特征数才可执行成功。\n",
    "\n",
    "- explained_variance_，它代表降维后的各主成分的方差值，方差值越大，则说明越是重要的主成分。\n",
    "- explained_variance_ratio_，它代表降维后的各主成分的方差值占总方差值的比例，这个比例越大，则越是重要的主成分。\n",
    "\n",
    "下例中，可以看到第一个特征的单个变量方差贡献率已经到达0.99,意味着几乎保留了所有的信息。所以只保留一个特征即可。\n"
   ]
  },
  {
   "cell_type": "code",
   "execution_count": 2,
   "metadata": {},
   "outputs": [
    {
     "name": "stdout",
     "output_type": "stream",
     "text": [
      "[0.99244289 0.00755711]\n"
     ]
    }
   ],
   "source": [
    "from sklearn.decomposition import PCA\n",
    "import numpy as np\n",
    "\n",
    "X = np.array([[-1, -1], [-2, -1], [-3, -2], [1, 1], [2, 1], [3, 2]])\n",
    "pca = PCA(n_components=2)\n",
    "pca.fit(X)\n",
    "print(pca.explained_variance_ratio_)"
   ]
  },
  {
   "cell_type": "code",
   "execution_count": null,
   "metadata": {},
   "outputs": [],
   "source": [
    "现在我们将n_components设置成\"mle\",发现自动保留了一个特征。"
   ]
  },
  {
   "cell_type": "code",
   "execution_count": 4,
   "metadata": {},
   "outputs": [
    {
     "name": "stdout",
     "output_type": "stream",
     "text": [
      "[0.99244289]\n"
     ]
    }
   ],
   "source": [
    "from sklearn.decomposition import PCA\n",
    "import numpy as np\n",
    "\n",
    "X = np.array([[-1, -1], [-2, -1], [-3, -2], [1, 1], [2, 1], [3, 2]])\n",
    "pca = PCA(n_components=\"mle\")\n",
    "pca.fit(X)\n",
    "print(pca.explained_variance_ratio_)"
   ]
  },
  {
   "cell_type": "markdown",
   "metadata": {},
   "source": [
    "下面，我们通过Python的sklearn库来实现肺癌数据集进行降维。"
   ]
  },
  {
   "cell_type": "code",
   "execution_count": 7,
   "metadata": {},
   "outputs": [
    {
     "data": {
      "text/html": [
       "<div>\n",
       "<style scoped>\n",
       "    .dataframe tbody tr th:only-of-type {\n",
       "        vertical-align: middle;\n",
       "    }\n",
       "\n",
       "    .dataframe tbody tr th {\n",
       "        vertical-align: top;\n",
       "    }\n",
       "\n",
       "    .dataframe thead th {\n",
       "        text-align: right;\n",
       "    }\n",
       "</style>\n",
       "<table border=\"1\" class=\"dataframe\">\n",
       "  <thead>\n",
       "    <tr style=\"text-align: right;\">\n",
       "      <th></th>\n",
       "      <th>半径均值</th>\n",
       "      <th>纹理均值</th>\n",
       "      <th>周长均值</th>\n",
       "      <th>面积均值</th>\n",
       "      <th>平滑度均值</th>\n",
       "      <th>紧凑性均值</th>\n",
       "      <th>凹度均值</th>\n",
       "      <th>凹点均值</th>\n",
       "      <th>对称性均值</th>\n",
       "      <th>分形维数均值</th>\n",
       "      <th>...</th>\n",
       "      <th>纹理均值.2</th>\n",
       "      <th>周长均值.2</th>\n",
       "      <th>面积均值.2</th>\n",
       "      <th>平滑度均值.2</th>\n",
       "      <th>紧凑性均值.2</th>\n",
       "      <th>凹度均值.2</th>\n",
       "      <th>凹点均值.2</th>\n",
       "      <th>对称性均值.2</th>\n",
       "      <th>分形维数均值.2</th>\n",
       "      <th>诊断结果</th>\n",
       "    </tr>\n",
       "  </thead>\n",
       "  <tbody>\n",
       "    <tr>\n",
       "      <th>0</th>\n",
       "      <td>12.46</td>\n",
       "      <td>24.04</td>\n",
       "      <td>83.97</td>\n",
       "      <td>475.9</td>\n",
       "      <td>0.11860</td>\n",
       "      <td>0.23960</td>\n",
       "      <td>0.22730</td>\n",
       "      <td>0.08543</td>\n",
       "      <td>0.2030</td>\n",
       "      <td>0.08243</td>\n",
       "      <td>...</td>\n",
       "      <td>40.68</td>\n",
       "      <td>97.65</td>\n",
       "      <td>711.4</td>\n",
       "      <td>0.1853</td>\n",
       "      <td>1.0580</td>\n",
       "      <td>1.1050</td>\n",
       "      <td>0.22100</td>\n",
       "      <td>0.4366</td>\n",
       "      <td>0.20750</td>\n",
       "      <td>0</td>\n",
       "    </tr>\n",
       "    <tr>\n",
       "      <th>1</th>\n",
       "      <td>16.02</td>\n",
       "      <td>23.24</td>\n",
       "      <td>102.70</td>\n",
       "      <td>797.8</td>\n",
       "      <td>0.08206</td>\n",
       "      <td>0.06669</td>\n",
       "      <td>0.03299</td>\n",
       "      <td>0.03323</td>\n",
       "      <td>0.1528</td>\n",
       "      <td>0.05697</td>\n",
       "      <td>...</td>\n",
       "      <td>33.88</td>\n",
       "      <td>123.80</td>\n",
       "      <td>1150.0</td>\n",
       "      <td>0.1181</td>\n",
       "      <td>0.1551</td>\n",
       "      <td>0.1459</td>\n",
       "      <td>0.09975</td>\n",
       "      <td>0.2948</td>\n",
       "      <td>0.08452</td>\n",
       "      <td>0</td>\n",
       "    </tr>\n",
       "    <tr>\n",
       "      <th>2</th>\n",
       "      <td>15.78</td>\n",
       "      <td>17.89</td>\n",
       "      <td>103.60</td>\n",
       "      <td>781.0</td>\n",
       "      <td>0.09710</td>\n",
       "      <td>0.12920</td>\n",
       "      <td>0.09954</td>\n",
       "      <td>0.06606</td>\n",
       "      <td>0.1842</td>\n",
       "      <td>0.06082</td>\n",
       "      <td>...</td>\n",
       "      <td>27.28</td>\n",
       "      <td>136.50</td>\n",
       "      <td>1299.0</td>\n",
       "      <td>0.1396</td>\n",
       "      <td>0.5609</td>\n",
       "      <td>0.3965</td>\n",
       "      <td>0.18100</td>\n",
       "      <td>0.3792</td>\n",
       "      <td>0.10480</td>\n",
       "      <td>0</td>\n",
       "    </tr>\n",
       "    <tr>\n",
       "      <th>3</th>\n",
       "      <td>19.17</td>\n",
       "      <td>24.80</td>\n",
       "      <td>132.40</td>\n",
       "      <td>1123.0</td>\n",
       "      <td>0.09740</td>\n",
       "      <td>0.24580</td>\n",
       "      <td>0.20650</td>\n",
       "      <td>0.11180</td>\n",
       "      <td>0.2397</td>\n",
       "      <td>0.07800</td>\n",
       "      <td>...</td>\n",
       "      <td>29.94</td>\n",
       "      <td>151.70</td>\n",
       "      <td>1332.0</td>\n",
       "      <td>0.1037</td>\n",
       "      <td>0.3903</td>\n",
       "      <td>0.3639</td>\n",
       "      <td>0.17670</td>\n",
       "      <td>0.3176</td>\n",
       "      <td>0.10230</td>\n",
       "      <td>0</td>\n",
       "    </tr>\n",
       "    <tr>\n",
       "      <th>4</th>\n",
       "      <td>15.85</td>\n",
       "      <td>23.95</td>\n",
       "      <td>103.70</td>\n",
       "      <td>782.7</td>\n",
       "      <td>0.08401</td>\n",
       "      <td>0.10020</td>\n",
       "      <td>0.09938</td>\n",
       "      <td>0.05364</td>\n",
       "      <td>0.1847</td>\n",
       "      <td>0.05338</td>\n",
       "      <td>...</td>\n",
       "      <td>27.66</td>\n",
       "      <td>112.00</td>\n",
       "      <td>876.5</td>\n",
       "      <td>0.1131</td>\n",
       "      <td>0.1924</td>\n",
       "      <td>0.2322</td>\n",
       "      <td>0.11190</td>\n",
       "      <td>0.2809</td>\n",
       "      <td>0.06287</td>\n",
       "      <td>0</td>\n",
       "    </tr>\n",
       "  </tbody>\n",
       "</table>\n",
       "<p>5 rows × 31 columns</p>\n",
       "</div>"
      ],
      "text/plain": [
       "    半径均值   纹理均值    周长均值    面积均值    平滑度均值    紧凑性均值     凹度均值     凹点均值   对称性均值  \\\n",
       "0  12.46  24.04   83.97   475.9  0.11860  0.23960  0.22730  0.08543  0.2030   \n",
       "1  16.02  23.24  102.70   797.8  0.08206  0.06669  0.03299  0.03323  0.1528   \n",
       "2  15.78  17.89  103.60   781.0  0.09710  0.12920  0.09954  0.06606  0.1842   \n",
       "3  19.17  24.80  132.40  1123.0  0.09740  0.24580  0.20650  0.11180  0.2397   \n",
       "4  15.85  23.95  103.70   782.7  0.08401  0.10020  0.09938  0.05364  0.1847   \n",
       "\n",
       "    分形维数均值  ...   纹理均值.2  周长均值.2  面积均值.2  平滑度均值.2  紧凑性均值.2  凹度均值.2   凹点均值.2  \\\n",
       "0  0.08243  ...    40.68   97.65   711.4   0.1853   1.0580  1.1050  0.22100   \n",
       "1  0.05697  ...    33.88  123.80  1150.0   0.1181   0.1551  0.1459  0.09975   \n",
       "2  0.06082  ...    27.28  136.50  1299.0   0.1396   0.5609  0.3965  0.18100   \n",
       "3  0.07800  ...    29.94  151.70  1332.0   0.1037   0.3903  0.3639  0.17670   \n",
       "4  0.05338  ...    27.66  112.00   876.5   0.1131   0.1924  0.2322  0.11190   \n",
       "\n",
       "   对称性均值.2  分形维数均值.2  诊断结果  \n",
       "0   0.4366   0.20750     0  \n",
       "1   0.2948   0.08452     0  \n",
       "2   0.3792   0.10480     0  \n",
       "3   0.3176   0.10230     0  \n",
       "4   0.2809   0.06287     0  \n",
       "\n",
       "[5 rows x 31 columns]"
      ]
     },
     "execution_count": 7,
     "metadata": {},
     "output_type": "execute_result"
    }
   ],
   "source": [
    "import pandas as pd\n",
    "\n",
    "df = pd.read_csv('data/cancer/cancer_train.csv',header=0,encoding='gb2312')\n",
    "df.head()"
   ]
  },
  {
   "cell_type": "code",
   "execution_count": 30,
   "metadata": {},
   "outputs": [
    {
     "name": "stdout",
     "output_type": "stream",
     "text": [
      "[0.98211464]\n"
     ]
    },
    {
     "data": {
      "image/png": "[encoded data removed]",
      "text/plain": [
       "<Figure size 432x288 with 1 Axes>"
      ]
     },
     "metadata": {
      "needs_background": "light"
     },
     "output_type": "display_data"
    }
   ],
   "source": [
    "import matplotlib.pyplot as plt                 \n",
    "from sklearn.decomposition import PCA \n",
    "\n",
    "pca = PCA(n_components = 0.2)    # 设置方差阈值，只取方差超过0.2的\n",
    "reduced_x = pca.fit_transform(df) # transform 的方法, 它可以用来降低维度\n",
    "print(pca.explained_variance_ratio_)\n",
    "\n",
    "if len(pca.explained_variance_ratio_) == 1:\n",
    "    red_x,red_y=[],[]\n",
    "    blue_x,blue_y=[],[]\n",
    "    \n",
    "    for i in range(len(reduced_x)):\n",
    "        if df.iloc[i,-1] ==0:\n",
    "            red_x.append(reduced_x[i][0])\n",
    "           \n",
    "\n",
    "        elif df.iloc[i,-1] ==1:\n",
    "            blue_x.append(reduced_x[i][0])\n",
    "   \n",
    "\n",
    "    #可视化\n",
    "    plt.scatter(red_x,np.zeros_like(red_x),c='r',marker='x')\n",
    "    plt.scatter(blue_x,np.ones_like(blue_x),c='b',marker='D')\n",
    "\n",
    "    plt.show()\n",
    "if len(pca.explained_variance_ratio_) == 2:\n",
    "    red_x,red_y=[],[]\n",
    "    blue_x,blue_y=[],[]\n",
    "    for i in range(len(reduced_x)):\n",
    "        if df.iloc[i,-1] ==0:\n",
    "            red_x.append(reduced_x[i][0])\n",
    "            red_y.append(reduced_x[i][1])\n",
    "\n",
    "        elif df.iloc[i,-1] ==1:\n",
    "            blue_x.append(reduced_x[i][0])\n",
    "            blue_y.append(reduced_x[i][1])\n",
    "\n",
    "    #可视化\n",
    "    plt.scatter(red_x,red_y,c='r',marker='x')\n",
    "    plt.scatter(blue_x,blue_y,c='b',marker='D')\n",
    "\n",
    "    plt.show()\n",
    "\n"
   ]
  },
  {
   "cell_type": "code",
   "execution_count": 4,
   "metadata": {},
   "outputs": [
    {
     "name": "stdout",
     "output_type": "stream",
     "text": [
      "[0.92461872 0.05306648]\n"
     ]
    },
    {
     "data": {
      "image/png": "[encoded data removed]",
      "text/plain": [
       "<Figure size 432x288 with 1 Axes>"
      ]
     },
     "metadata": {
      "needs_background": "light"
     },
     "output_type": "display_data"
    }
   ],
   "source": [
    "import matplotlib.pyplot as plt                 #加载matplotlib用于数据的可视化\n",
    "from sklearn.decomposition import PCA           #加载PCA算法包\n",
    "from sklearn.datasets import load_iris\n",
    "\n",
    "data=load_iris()\n",
    "y=data.target\n",
    "x=data.data\n",
    "pca=PCA(n_components=2)     #加载PCA算法，设置降维后主成分数目为2\n",
    "reduced_x=pca.fit_transform(x)#对样本进行降维\n",
    "print(pca.explained_variance_ratio_)\n",
    "red_x,red_y=[],[]\n",
    "blue_x,blue_y=[],[]\n",
    "green_x,green_y=[],[]\n",
    "\n",
    "\n",
    "for i in range(len(reduced_x)):\n",
    "    if y[i] ==0:\n",
    "        red_x.append(reduced_x[i][0])\n",
    "        red_y.append(reduced_x[i][1])\n",
    "\n",
    "    elif y[i]==1:\n",
    "        blue_x.append(reduced_x[i][0])\n",
    "        blue_y.append(reduced_x[i][1])\n",
    "\n",
    "    else:\n",
    "        green_x.append(reduced_x[i][0])\n",
    "        green_y.append(reduced_x[i][1])\n",
    "\n",
    "#可视化\n",
    "plt.scatter(red_x,red_y,c='r',marker='x')\n",
    "plt.scatter(blue_x,blue_y,c='b',marker='D')\n",
    "plt.scatter(green_x,green_y,c='g',marker='.')\n",
    "plt.show()\n"
   ]
  },
  {
   "cell_type": "code",
   "execution_count": null,
   "metadata": {},
   "outputs": [],
   "source": []
  }
 ],
 "metadata": {
  "kernelspec": {
   "display_name": "Python 3",
   "language": "python",
   "name": "python3"
  },
  "language_info": {
   "codemirror_mode": {
    "name": "ipython",
    "version": 3
   },
   "file_extension": ".py",
   "mimetype": "text/x-python",
   "name": "python",
   "nbconvert_exporter": "python",
   "pygments_lexer": "ipython3",
   "version": "3.7.1"
  },
  "toc": {
   "base_numbering": 1,
   "nav_menu": {},
   "number_sections": true,
   "sideBar": true,
   "skip_h1_title": false,
   "title_cell": "Table of Contents",
   "title_sidebar": "Contents",
   "toc_cell": false,
   "toc_position": {},
   "toc_section_display": true,
   "toc_window_display": false
  }
 },
 "nbformat": 4,
 "nbformat_minor": 2
}
