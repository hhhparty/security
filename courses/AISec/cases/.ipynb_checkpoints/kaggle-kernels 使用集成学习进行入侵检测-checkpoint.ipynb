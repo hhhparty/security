{
 "cells": [
  {
   "cell_type": "markdown",
   "metadata": {},
   "source": [
    "# Kaggle Kernels: nsl-kdd ensemble-alik604\n",
    "\n",
    "入侵检测数据集：\n",
    "Dataset from https://github.com/defcom17/NSL_KDD/\n",
    "\n",
    "\n",
    "more info\n",
    "Sample code used: https://www.kaggle.com/meesterwaffles/nicholas-brougher-neb5211-project4"
   ]
  },
  {
   "cell_type": "markdown",
   "metadata": {},
   "source": [
    "## 加载数据"
   ]
  },
  {
   "cell_type": "code",
   "execution_count": 2,
   "metadata": {},
   "outputs": [],
   "source": [
    "%config IPCompleter.greedy = True # 對於接下來執行過的內容都會被列入自動提示中。\n",
    "import pandas as pd\n",
    "import seaborn as sns\n",
    "import numpy as np\n",
    "import re\n",
    "import sklearn\n",
    "\n",
    "import warnings\n",
    "warnings.filterwarnings(\"ignore\")\n",
    "\n",
    "import matplotlib.pyplot as plt\n",
    "import matplotlib as matplot\n",
    "%matplotlib inline\n",
    "\n",
    "from IPython.core.interactiveshell import InteractiveShell\n",
    "InteractiveShell.ast_node_interactivity = \"all\"\n",
    "\n",
    "from sklearn.model_selection import train_test_split"
   ]
  },
  {
   "cell_type": "code",
   "execution_count": 11,
   "metadata": {
    "scrolled": true
   },
   "outputs": [
    {
     "data": {
      "text/plain": [
       "(125972, 43)"
      ]
     },
     "execution_count": 11,
     "metadata": {},
     "output_type": "execute_result"
    },
    {
     "data": {
      "text/plain": [
       "(22542, 43)"
      ]
     },
     "execution_count": 11,
     "metadata": {},
     "output_type": "execute_result"
    },
    {
     "data": {
      "text/plain": [
       "(148514, 43)"
      ]
     },
     "execution_count": 11,
     "metadata": {},
     "output_type": "execute_result"
    },
    {
     "data": {
      "text/html": [
       "<div>\n",
       "<style scoped>\n",
       "    .dataframe tbody tr th:only-of-type {\n",
       "        vertical-align: middle;\n",
       "    }\n",
       "\n",
       "    .dataframe tbody tr th {\n",
       "        vertical-align: top;\n",
       "    }\n",
       "\n",
       "    .dataframe thead th {\n",
       "        text-align: right;\n",
       "    }\n",
       "</style>\n",
       "<table border=\"1\" class=\"dataframe\">\n",
       "  <thead>\n",
       "    <tr style=\"text-align: right;\">\n",
       "      <th></th>\n",
       "      <th>0</th>\n",
       "      <th>1</th>\n",
       "      <th>2</th>\n",
       "      <th>3</th>\n",
       "      <th>4</th>\n",
       "      <th>5</th>\n",
       "      <th>6</th>\n",
       "      <th>7</th>\n",
       "      <th>8</th>\n",
       "      <th>9</th>\n",
       "      <th>...</th>\n",
       "      <th>33</th>\n",
       "      <th>34</th>\n",
       "      <th>35</th>\n",
       "      <th>36</th>\n",
       "      <th>37</th>\n",
       "      <th>38</th>\n",
       "      <th>39</th>\n",
       "      <th>40</th>\n",
       "      <th>41</th>\n",
       "      <th>42</th>\n",
       "    </tr>\n",
       "  </thead>\n",
       "  <tbody>\n",
       "    <tr>\n",
       "      <th>0</th>\n",
       "      <td>0</td>\n",
       "      <td>udp</td>\n",
       "      <td>other</td>\n",
       "      <td>SF</td>\n",
       "      <td>146</td>\n",
       "      <td>0</td>\n",
       "      <td>0</td>\n",
       "      <td>0</td>\n",
       "      <td>0</td>\n",
       "      <td>0</td>\n",
       "      <td>...</td>\n",
       "      <td>0.00</td>\n",
       "      <td>0.60</td>\n",
       "      <td>0.88</td>\n",
       "      <td>0.00</td>\n",
       "      <td>0.00</td>\n",
       "      <td>0.00</td>\n",
       "      <td>0.0</td>\n",
       "      <td>0.00</td>\n",
       "      <td>normal</td>\n",
       "      <td>15</td>\n",
       "    </tr>\n",
       "    <tr>\n",
       "      <th>1</th>\n",
       "      <td>0</td>\n",
       "      <td>tcp</td>\n",
       "      <td>private</td>\n",
       "      <td>S0</td>\n",
       "      <td>0</td>\n",
       "      <td>0</td>\n",
       "      <td>0</td>\n",
       "      <td>0</td>\n",
       "      <td>0</td>\n",
       "      <td>0</td>\n",
       "      <td>...</td>\n",
       "      <td>0.10</td>\n",
       "      <td>0.05</td>\n",
       "      <td>0.00</td>\n",
       "      <td>0.00</td>\n",
       "      <td>1.00</td>\n",
       "      <td>1.00</td>\n",
       "      <td>0.0</td>\n",
       "      <td>0.00</td>\n",
       "      <td>neptune</td>\n",
       "      <td>19</td>\n",
       "    </tr>\n",
       "    <tr>\n",
       "      <th>2</th>\n",
       "      <td>0</td>\n",
       "      <td>tcp</td>\n",
       "      <td>http</td>\n",
       "      <td>SF</td>\n",
       "      <td>232</td>\n",
       "      <td>8153</td>\n",
       "      <td>0</td>\n",
       "      <td>0</td>\n",
       "      <td>0</td>\n",
       "      <td>0</td>\n",
       "      <td>...</td>\n",
       "      <td>1.00</td>\n",
       "      <td>0.00</td>\n",
       "      <td>0.03</td>\n",
       "      <td>0.04</td>\n",
       "      <td>0.03</td>\n",
       "      <td>0.01</td>\n",
       "      <td>0.0</td>\n",
       "      <td>0.01</td>\n",
       "      <td>normal</td>\n",
       "      <td>21</td>\n",
       "    </tr>\n",
       "    <tr>\n",
       "      <th>3</th>\n",
       "      <td>0</td>\n",
       "      <td>tcp</td>\n",
       "      <td>http</td>\n",
       "      <td>SF</td>\n",
       "      <td>199</td>\n",
       "      <td>420</td>\n",
       "      <td>0</td>\n",
       "      <td>0</td>\n",
       "      <td>0</td>\n",
       "      <td>0</td>\n",
       "      <td>...</td>\n",
       "      <td>1.00</td>\n",
       "      <td>0.00</td>\n",
       "      <td>0.00</td>\n",
       "      <td>0.00</td>\n",
       "      <td>0.00</td>\n",
       "      <td>0.00</td>\n",
       "      <td>0.0</td>\n",
       "      <td>0.00</td>\n",
       "      <td>normal</td>\n",
       "      <td>21</td>\n",
       "    </tr>\n",
       "    <tr>\n",
       "      <th>4</th>\n",
       "      <td>0</td>\n",
       "      <td>tcp</td>\n",
       "      <td>private</td>\n",
       "      <td>REJ</td>\n",
       "      <td>0</td>\n",
       "      <td>0</td>\n",
       "      <td>0</td>\n",
       "      <td>0</td>\n",
       "      <td>0</td>\n",
       "      <td>0</td>\n",
       "      <td>...</td>\n",
       "      <td>0.07</td>\n",
       "      <td>0.07</td>\n",
       "      <td>0.00</td>\n",
       "      <td>0.00</td>\n",
       "      <td>0.00</td>\n",
       "      <td>0.00</td>\n",
       "      <td>1.0</td>\n",
       "      <td>1.00</td>\n",
       "      <td>neptune</td>\n",
       "      <td>21</td>\n",
       "    </tr>\n",
       "  </tbody>\n",
       "</table>\n",
       "<p>5 rows × 43 columns</p>\n",
       "</div>"
      ],
      "text/plain": [
       "   0    1        2    3    4     5   6   7   8   9   ...    33    34    35  \\\n",
       "0   0  udp    other   SF  146     0   0   0   0   0  ...  0.00  0.60  0.88   \n",
       "1   0  tcp  private   S0    0     0   0   0   0   0  ...  0.10  0.05  0.00   \n",
       "2   0  tcp     http   SF  232  8153   0   0   0   0  ...  1.00  0.00  0.03   \n",
       "3   0  tcp     http   SF  199   420   0   0   0   0  ...  1.00  0.00  0.00   \n",
       "4   0  tcp  private  REJ    0     0   0   0   0   0  ...  0.07  0.07  0.00   \n",
       "\n",
       "     36    37    38   39    40       41  42  \n",
       "0  0.00  0.00  0.00  0.0  0.00   normal  15  \n",
       "1  0.00  1.00  1.00  0.0  0.00  neptune  19  \n",
       "2  0.04  0.03  0.01  0.0  0.01   normal  21  \n",
       "3  0.00  0.00  0.00  0.0  0.00   normal  21  \n",
       "4  0.00  0.00  0.00  1.0  1.00  neptune  21  \n",
       "\n",
       "[5 rows x 43 columns]"
      ]
     },
     "execution_count": 11,
     "metadata": {},
     "output_type": "execute_result"
    }
   ],
   "source": [
    "train = pd.read_csv('https://raw.githubusercontent.com/defcom17/NSL_KDD/master/KDDTrain%2B.csv')\n",
    "test = pd.read_csv('https://raw.githubusercontent.com/defcom17/NSL_KDD/master/KDDTest%2B.csv')\n",
    "train.shape\n",
    "test.shape \n",
    "\n",
    "train.columns = range(train.shape[1])\n",
    "test.columns = range(test.shape[1])\n",
    "labels = ['duration', 'protocol_type', 'service', 'flag', 'src_bytes',\n",
    "            'dst_bytes', 'land', 'wrong_fragment', 'urgent', 'hot',\n",
    "            'num_failed_logins', 'logged_in', 'num_compromised', 'root_shell',\n",
    "            'su_attempted', 'num_root', 'num_file_creations', 'num_shells',\n",
    "            'num_access_files', 'num_outbound_cmds', 'is_host_login',\n",
    "            'is_guest_login', 'count', 'srv_count', 'serror_rate',\n",
    "            'srv_serror_rate', 'rerror_rate', 'srv_rerror_rate', 'same_srv_rate',\n",
    "            'diff_srv_rate', 'srv_diff_host_rate', 'dst_host_count',\n",
    "            'dst_host_srv_count', 'dst_host_same_srv_rate', 'dst_host_diff_srv_rate', 'dst_host_same_src_port_rate',\n",
    "            'dst_host_srv_diff_host_rate', 'dst_host_serror_rate',\n",
    "            'dst_host_srv_serror_rate', 'dst_host_rerror_rate',\n",
    "            'dst_host_srv_rerror_rate', 'attack_type', 'difficulty_level']# subclass - > attack_type\n",
    "combined_data = pd.concat([train, test])\n",
    "combined_data.shape\n",
    "combined_data.head(5)"
   ]
  },
  {
   "cell_type": "markdown",
   "metadata": {},
   "source": [
    "去掉难度这一列，减少训练集的大小。\n",
    "\n",
    "Reduce train size for faster trainin, remove when in production"
   ]
  },
  {
   "cell_type": "code",
   "execution_count": 15,
   "metadata": {},
   "outputs": [
    {
     "data": {
      "text/plain": [
       "pandas.core.frame.DataFrame"
      ]
     },
     "execution_count": 15,
     "metadata": {},
     "output_type": "execute_result"
    }
   ],
   "source": [
    "combined_data.columns = labels\n",
    "combined_data = combined_data.drop('difficulty_level', 1)\n"
   ]
  },
  {
   "cell_type": "code",
   "execution_count": 16,
   "metadata": {},
   "outputs": [
    {
     "data": {
      "text/html": [
       "<div>\n",
       "<style scoped>\n",
       "    .dataframe tbody tr th:only-of-type {\n",
       "        vertical-align: middle;\n",
       "    }\n",
       "\n",
       "    .dataframe tbody tr th {\n",
       "        vertical-align: top;\n",
       "    }\n",
       "\n",
       "    .dataframe thead th {\n",
       "        text-align: right;\n",
       "    }\n",
       "</style>\n",
       "<table border=\"1\" class=\"dataframe\">\n",
       "  <thead>\n",
       "    <tr style=\"text-align: right;\">\n",
       "      <th></th>\n",
       "      <th>duration</th>\n",
       "      <th>protocol_type</th>\n",
       "      <th>service</th>\n",
       "      <th>flag</th>\n",
       "      <th>src_bytes</th>\n",
       "      <th>dst_bytes</th>\n",
       "      <th>land</th>\n",
       "      <th>wrong_fragment</th>\n",
       "      <th>urgent</th>\n",
       "      <th>hot</th>\n",
       "      <th>...</th>\n",
       "      <th>dst_host_srv_count</th>\n",
       "      <th>dst_host_same_srv_rate</th>\n",
       "      <th>dst_host_diff_srv_rate</th>\n",
       "      <th>dst_host_same_src_port_rate</th>\n",
       "      <th>dst_host_srv_diff_host_rate</th>\n",
       "      <th>dst_host_serror_rate</th>\n",
       "      <th>dst_host_srv_serror_rate</th>\n",
       "      <th>dst_host_rerror_rate</th>\n",
       "      <th>dst_host_srv_rerror_rate</th>\n",
       "      <th>attack_type</th>\n",
       "    </tr>\n",
       "  </thead>\n",
       "  <tbody>\n",
       "    <tr>\n",
       "      <th>0</th>\n",
       "      <td>0</td>\n",
       "      <td>udp</td>\n",
       "      <td>other</td>\n",
       "      <td>SF</td>\n",
       "      <td>146</td>\n",
       "      <td>0</td>\n",
       "      <td>0</td>\n",
       "      <td>0</td>\n",
       "      <td>0</td>\n",
       "      <td>0</td>\n",
       "      <td>...</td>\n",
       "      <td>1</td>\n",
       "      <td>0.0</td>\n",
       "      <td>0.60</td>\n",
       "      <td>0.88</td>\n",
       "      <td>0.00</td>\n",
       "      <td>0.00</td>\n",
       "      <td>0.00</td>\n",
       "      <td>0.0</td>\n",
       "      <td>0.00</td>\n",
       "      <td>normal</td>\n",
       "    </tr>\n",
       "    <tr>\n",
       "      <th>1</th>\n",
       "      <td>0</td>\n",
       "      <td>tcp</td>\n",
       "      <td>private</td>\n",
       "      <td>S0</td>\n",
       "      <td>0</td>\n",
       "      <td>0</td>\n",
       "      <td>0</td>\n",
       "      <td>0</td>\n",
       "      <td>0</td>\n",
       "      <td>0</td>\n",
       "      <td>...</td>\n",
       "      <td>26</td>\n",
       "      <td>0.1</td>\n",
       "      <td>0.05</td>\n",
       "      <td>0.00</td>\n",
       "      <td>0.00</td>\n",
       "      <td>1.00</td>\n",
       "      <td>1.00</td>\n",
       "      <td>0.0</td>\n",
       "      <td>0.00</td>\n",
       "      <td>neptune</td>\n",
       "    </tr>\n",
       "    <tr>\n",
       "      <th>2</th>\n",
       "      <td>0</td>\n",
       "      <td>tcp</td>\n",
       "      <td>http</td>\n",
       "      <td>SF</td>\n",
       "      <td>232</td>\n",
       "      <td>8153</td>\n",
       "      <td>0</td>\n",
       "      <td>0</td>\n",
       "      <td>0</td>\n",
       "      <td>0</td>\n",
       "      <td>...</td>\n",
       "      <td>255</td>\n",
       "      <td>1.0</td>\n",
       "      <td>0.00</td>\n",
       "      <td>0.03</td>\n",
       "      <td>0.04</td>\n",
       "      <td>0.03</td>\n",
       "      <td>0.01</td>\n",
       "      <td>0.0</td>\n",
       "      <td>0.01</td>\n",
       "      <td>normal</td>\n",
       "    </tr>\n",
       "  </tbody>\n",
       "</table>\n",
       "<p>3 rows × 42 columns</p>\n",
       "</div>"
      ],
      "text/plain": [
       "   duration protocol_type  service flag  src_bytes  dst_bytes  land  \\\n",
       "0         0           udp    other   SF        146          0     0   \n",
       "1         0           tcp  private   S0          0          0     0   \n",
       "2         0           tcp     http   SF        232       8153     0   \n",
       "\n",
       "   wrong_fragment  urgent  hot  ...  dst_host_srv_count  \\\n",
       "0               0       0    0  ...                   1   \n",
       "1               0       0    0  ...                  26   \n",
       "2               0       0    0  ...                 255   \n",
       "\n",
       "   dst_host_same_srv_rate  dst_host_diff_srv_rate  \\\n",
       "0                     0.0                    0.60   \n",
       "1                     0.1                    0.05   \n",
       "2                     1.0                    0.00   \n",
       "\n",
       "   dst_host_same_src_port_rate  dst_host_srv_diff_host_rate  \\\n",
       "0                         0.88                         0.00   \n",
       "1                         0.00                         0.00   \n",
       "2                         0.03                         0.04   \n",
       "\n",
       "   dst_host_serror_rate  dst_host_srv_serror_rate  dst_host_rerror_rate  \\\n",
       "0                  0.00                      0.00                   0.0   \n",
       "1                  1.00                      1.00                   0.0   \n",
       "2                  0.03                      0.01                   0.0   \n",
       "\n",
       "   dst_host_srv_rerror_rate  attack_type  \n",
       "0                      0.00       normal  \n",
       "1                      0.00      neptune  \n",
       "2                      0.01       normal  \n",
       "\n",
       "[3 rows x 42 columns]"
      ]
     },
     "execution_count": 16,
     "metadata": {},
     "output_type": "execute_result"
    }
   ],
   "source": [
    "combined_data.head(3)"
   ]
  },
  {
   "cell_type": "code",
   "execution_count": 17,
   "metadata": {},
   "outputs": [
    {
     "data": {
      "text/plain": [
       "(148514, 42)"
      ]
     },
     "execution_count": 17,
     "metadata": {},
     "output_type": "execute_result"
    }
   ],
   "source": [
    "combined_data.shape"
   ]
  },
  {
   "cell_type": "markdown",
   "metadata": {},
   "source": [
    "## 数据预处理\n",
    "\n",
    "### 完成对字符型数据的标签编码。"
   ]
  },
  {
   "cell_type": "code",
   "execution_count": 18,
   "metadata": {
    "scrolled": true
   },
   "outputs": [
    {
     "name": "stdout",
     "output_type": "stream",
     "text": [
      "{'guess_passwd', 'ipsweep', 'neptune', 'teardrop', 'smurf', 'xlock', 'warezclient', 'satan', 'named', 'worm', 'pod', 'rootkit', 'processtable', 'land', 'portsweep', 'snmpguess', 'spy', 'mscan', 'mailbomb', 'snmpgetattack', 'sendmail', 'loadmodule', 'back', 'multihop', 'httptunnel', 'xsnoop', 'udpstorm', 'buffer_overflow', 'nmap', 'apache2', 'xterm', 'ftp_write', 'normal', 'phf', 'ps', 'saint', 'perl', 'imap', 'warezmaster', 'sqlattack'}\n",
      "\n",
      "Describing attack_type: \n"
     ]
    },
    {
     "data": {
      "text/plain": [
       "count    148514.000000\n",
       "mean         15.782243\n",
       "std           4.515769\n",
       "min           0.000000\n",
       "25%          14.000000\n",
       "50%          16.000000\n",
       "75%          16.000000\n",
       "max          39.000000\n",
       "Name: attack_type, dtype: float64"
      ]
     },
     "execution_count": 18,
     "metadata": {},
     "output_type": "execute_result"
    }
   ],
   "source": [
    "from sklearn import preprocessing\n",
    "le = preprocessing.LabelEncoder()\n",
    "\n",
    "print(set(list(combined_data['attack_type']))) # use print to make it print on single line \n",
    "combined_data['attack_type'] = le.fit_transform(combined_data['attack_type'])\n",
    "combined_data['protocol_type'] = le.fit_transform(combined_data['protocol_type'])\n",
    "combined_data['service'] = le.fit_transform(combined_data['service'])\n",
    "combined_data['flag'] = le.fit_transform(combined_data['flag'])\n",
    "\n",
    "print('\\nDescribing attack_type: ')\n",
    "combined_data['attack_type'].describe()"
   ]
  },
  {
   "cell_type": "markdown",
   "metadata": {},
   "source": [
    "### 特征选取\n",
    "\n",
    "- 找与“攻击类型”相关系数最小的10个属性\n",
    "- 找标准差最小的5个属性（最集中）\n",
    "\n",
    "这些属性一般不具有预测意义，所以找出以后去掉。"
   ]
  },
  {
   "cell_type": "code",
   "execution_count": 19,
   "metadata": {
    "scrolled": true
   },
   "outputs": [
    {
     "data": {
      "text/plain": [
       "['num_compromised',\n",
       " 'num_file_creations',\n",
       " 'num_root',\n",
       " 'su_attempted',\n",
       " 'logged_in',\n",
       " 'num_access_files',\n",
       " 'dst_bytes',\n",
       " 'root_shell',\n",
       " 'num_shells',\n",
       " 'srv_rerror_rate']"
      ]
     },
     "execution_count": 19,
     "metadata": {},
     "output_type": "execute_result"
    },
    {
     "data": {
      "text/plain": [
       "['num_outbound_cmds', 'is_host_login', 'land', 'urgent', 'num_shells']"
      ]
     },
     "execution_count": 19,
     "metadata": {},
     "output_type": "execute_result"
    },
    {
     "data": {
      "text/plain": [
       "14"
      ]
     },
     "execution_count": 19,
     "metadata": {},
     "output_type": "execute_result"
    },
    {
     "data": {
      "text/plain": [
       "{'dst_bytes',\n",
       " 'is_host_login',\n",
       " 'land',\n",
       " 'logged_in',\n",
       " 'num_access_files',\n",
       " 'num_compromised',\n",
       " 'num_file_creations',\n",
       " 'num_outbound_cmds',\n",
       " 'num_root',\n",
       " 'num_shells',\n",
       " 'root_shell',\n",
       " 'srv_rerror_rate',\n",
       " 'su_attempted',\n",
       " 'urgent'}"
      ]
     },
     "execution_count": 19,
     "metadata": {},
     "output_type": "execute_result"
    }
   ],
   "source": [
    "# select least correlated\n",
    "\n",
    "# 计算各属性的相关系数矩阵，并取绝对值，之后按攻击类型进行排序\n",
    "corr_matrix = combined_data.corr().abs().sort_values('attack_type')\n",
    "# tmp.head(10) # to view CORR matrix \n",
    "\n",
    "# 找出与攻击类型这一属性相关系数最小的10个属性\n",
    "leastCorrelated = corr_matrix['attack_type'].nsmallest(10)\n",
    "leastCorrelated = list(leastCorrelated.index)\n",
    "leastCorrelated\n",
    "\n",
    "\n",
    "# select least correlated\n",
    "# 计算各属性数据的标准差，并找出最小的5行，即最不稀疏的5个属性数据\n",
    "leastSTD =  combined_data.std().to_frame().nsmallest(5, columns=0)\n",
    "leastSTD = list(leastSTD.transpose().columns)  #fuckin pandas.core.indexes.base.Index   -_\n",
    "leastSTD\n",
    "\n",
    "#tmp = tmp.append('num_outbound_cmds')  # might not work...\n",
    "# 将特征确定为下列特征的并集\n",
    "featureElimination = set(leastCorrelated + leastSTD)\n",
    "len(featureElimination)\n",
    "featureElimination"
   ]
  },
  {
   "cell_type": "markdown",
   "metadata": {},
   "source": [
    "### 确定训练集和测试集\n",
    "\n",
    "去掉找出的属性,并将数据集分为X和y。"
   ]
  },
  {
   "cell_type": "code",
   "execution_count": null,
   "metadata": {},
   "outputs": [],
   "source": [
    "combined_data=combined_data.drop(featureElimination,axis=1)\n",
    "data_x = combined_data.drop('attack_type', axis=1)\n",
    "data_y = combined_data.loc[:,['attack_type']]\n",
    "#del combined_data # free mem\n",
    "X_train, X_test, y_train, y_test = train_test_split(data_x, data_y, test_size=.5, random_state=42) # TODO\n",
    "\n"
   ]
  },
  {
   "cell_type": "code",
   "execution_count": 30,
   "metadata": {},
   "outputs": [
    {
     "data": {
      "text/plain": [
       "(74257, 27)"
      ]
     },
     "execution_count": 30,
     "metadata": {},
     "output_type": "execute_result"
    },
    {
     "data": {
      "text/plain": [
       "(74257, 27)"
      ]
     },
     "execution_count": 30,
     "metadata": {},
     "output_type": "execute_result"
    }
   ],
   "source": [
    "X_train.shape\n",
    "X_test.shape"
   ]
  },
  {
   "cell_type": "markdown",
   "metadata": {},
   "source": [
    "## 使用集成学习\n",
    "\n",
    "弱学习器包括：\n",
    "- VotingClassifier\n",
    "- AdaBoostClassifier\n",
    "- RandomForestClassifier\n",
    "- BaggingClassifier\n",
    "- ExtraTreesClassifier\n",
    "- GradientBoostingClassifier"
   ]
  },
  {
   "cell_type": "code",
   "execution_count": 31,
   "metadata": {},
   "outputs": [
    {
     "data": {
      "text/plain": [
       "15"
      ]
     },
     "execution_count": 31,
     "metadata": {},
     "output_type": "execute_result"
    }
   ],
   "source": [
    "from sklearn import linear_model\n",
    "\n",
    "from sklearn.ensemble import VotingClassifier\n",
    "\n",
    "from sklearn.ensemble import AdaBoostClassifier\n",
    "from sklearn.ensemble import RandomForestClassifier\n",
    "from sklearn.ensemble import BaggingClassifier\n",
    "from sklearn.ensemble import ExtraTreesClassifier\n",
    "from sklearn.ensemble import GradientBoostingClassifier\n",
    "from sklearn.ensemble import IsolationForest\n",
    "\n",
    "from sklearn.svm import SVC\n",
    "from sklearn.tree import DecisionTreeClassifier\n",
    "\n",
    "import gc # 垃圾回收\n",
    "gc.collect()"
   ]
  },
  {
   "cell_type": "code",
   "execution_count": 32,
   "metadata": {},
   "outputs": [
    {
     "name": "stdout",
     "output_type": "stream",
     "text": [
      "Acc: 0.99 [DecisionTreeClassifier]\n",
      "Acc: 0.99 [Random Forest]\n",
      "Acc: 0.99 [GradientBoostingClassifier]\n",
      "Acc: 0.99 [ExtraTreesClassifier]\n",
      "Acc: 0.99 [Ensemble]\n"
     ]
    }
   ],
   "source": [
    "x = X_train\n",
    "#Return the flattened underlying data as an ndarray 即将多维数组降位一维，返回视图,而不是拷贝（flatten方法返回拷贝，功能与ravel相同）\n",
    "y = y_train['attack_type'].ravel() \n",
    "\n",
    "clf1 = DecisionTreeClassifier() \n",
    "clf2 = RandomForestClassifier(n_estimators=25, random_state=1)\n",
    "clf3 = GradientBoostingClassifier()\n",
    "ET = ExtraTreesClassifier(n_estimators=10, criterion='gini', max_features='auto', bootstrap=False) # .76 # without this lil fucker, Acc: 0.75 [Ensemble], 0.78 with \n",
    "\n",
    "eclf = VotingClassifier(estimators=[('lr', clf1), ('rf', clf2), ('gnb', clf3),('et',ET)], voting='hard') \n",
    "\n",
    "for clf, label in zip([clf1, clf2, clf3,ET, eclf], ['DecisionTreeClassifier', 'Random Forest', 'GradientBoostingClassifier','ExtraTreesClassifier', 'Ensemble']): \n",
    "    tmp = clf.fit(x,y)\n",
    "    pred = clf.score(X_test,y_test)\n",
    "    print(\"Acc: %0.2f [%s]\" % (pred,label))"
   ]
  },
  {
   "cell_type": "code",
   "execution_count": 34,
   "metadata": {},
   "outputs": [
    {
     "data": {
      "text/plain": [
       "array([16, 16, 16, ..., 25, 16, 16])"
      ]
     },
     "execution_count": 34,
     "metadata": {},
     "output_type": "execute_result"
    }
   ],
   "source": [
    "y"
   ]
  },
  {
   "cell_type": "code",
   "execution_count": null,
   "metadata": {
    "scrolled": true
   },
   "outputs": [
    {
     "name": "stdout",
     "output_type": "stream",
     "text": [
      "Acc: 0.99 [DecisionTreeClassifier]\n",
      "Acc: 0.99 [Random Forest]\n"
     ]
    }
   ],
   "source": [
    "x = X_train\n",
    "y = y_train['attack_type'].ravel()\n",
    "\n",
    "clf1 = DecisionTreeClassifier() \n",
    "clf2 = RandomForestClassifier(n_estimators=25, random_state=1)\n",
    "clf3 = GradientBoostingClassifier()\n",
    "ET = ExtraTreesClassifier(n_estimators=10, criterion='gini', max_features='auto', bootstrap=False) # .76 # without this lil fucker, Acc: 0.75 [Ensemble], 0.78 with \n",
    "\n",
    "eclf = VotingClassifier(estimators=[('lr', clf1), ('rf', clf2), ('gnb', clf3),('et',ET)], voting='hard') \n",
    "\n",
    "for clf, label in zip([clf1, clf2, clf3,ET, eclf], ['DecisionTreeClassifier', 'Random Forest', 'GradientBoostingClassifier','ExtraTreesClassifier', 'Ensemble']): \n",
    "    tmp = clf.fit(x,y)\n",
    "    pred = clf.score(X_test,y_test)\n",
    "    print(\"Acc: %0.2f [%s]\" % (pred,label))"
   ]
  },
  {
   "cell_type": "code",
   "execution_count": null,
   "metadata": {},
   "outputs": [],
   "source": [
    "LR = linear_model.LinearRegression()\n",
    "LR.fit(X_train, y_train)\n",
    "lr_score = LR.score(X_test, y_test)\n",
    "print('Linear regression processing')\n",
    "print('Linear regression Score: %.2f %%' % lr_score)"
   ]
  },
  {
   "cell_type": "code",
   "execution_count": null,
   "metadata": {},
   "outputs": [],
   "source": [
    "AB = AdaBoostClassifier(base_estimator=DecisionTreeClassifier(), n_estimators=100, learning_rate=1.0)\n",
    "RF = RandomForestClassifier(n_estimators=10, criterion='entropy', max_features='auto', bootstrap=True)\n",
    "ET = ExtraTreesClassifier(n_estimators=10, criterion='gini', max_features='auto', bootstrap=False)\n",
    "GB = GradientBoostingClassifier(loss='deviance', learning_rate=0.1, n_estimators=200, max_features='auto')"
   ]
  },
  {
   "cell_type": "code",
   "execution_count": null,
   "metadata": {},
   "outputs": [],
   "source": [
    "AB.fit(X_train, y_train)\n",
    "AB_feature = AB.feature_importances_\n",
    "#AB_feature\n",
    "ab_score = AB.score(X_test, y_test)\n",
    "\n",
    "print('AdaBoostClassifier processing ,,,')\n",
    "print('AdaBoostClassifier Score: %.3f %%' % ab_score)"
   ]
  },
  {
   "cell_type": "code",
   "execution_count": null,
   "metadata": {},
   "outputs": [],
   "source": [
    "RF.fit(X_train, y_train)\n",
    "RF_feature = RF.feature_importances_\n",
    "#RF_feature\n",
    "\n",
    "rf_score = RF.score(X_test, y_test)\n",
    "\n",
    "print('RandomForestClassifier processing ,,,')\n",
    "print('RandomForestClassifier Score: %.3f %%' % rf_score)"
   ]
  },
  {
   "cell_type": "code",
   "execution_count": null,
   "metadata": {},
   "outputs": [],
   "source": [
    "ET.fit(X_train, y_train)\n",
    "ET_feature = ET.feature_importances_\n",
    "#ET_feature\n",
    "\n",
    "et_score = ET.score(X_test, y_test)\n",
    "\n",
    "print('ExtraTreesClassifier processing ,,,')\n",
    "print('ExtraTreeClassifier: %.3f %%' % et_score)"
   ]
  },
  {
   "cell_type": "code",
   "execution_count": null,
   "metadata": {},
   "outputs": [],
   "source": [
    "GB.fit(X_train, y_train)\n",
    "\n",
    "GB_feature = GB.feature_importances_\n",
    "#GB_feature\n",
    "\n",
    "gb_score = GB.score(X_test, y_test)\n",
    "\n",
    "print('GradientBoostingClassifier processing ,,,')\n",
    "print('GradientBoostingClassifier Score: %.3f %%' % gb_score)"
   ]
  },
  {
   "cell_type": "code",
   "execution_count": null,
   "metadata": {},
   "outputs": [],
   "source": [
    "feature_df = pd.DataFrame({'features': X_train.columns.values, # names\n",
    "                           'AdaBoost' : AB_feature,\n",
    "                           'RandomForest' : RF_feature,\n",
    "                           'ExtraTree' : ET_feature,\n",
    "                           'GradientBoost' : GB_feature\n",
    "                          })\n",
    "#feature_df.features\n",
    "feature_df.head(5)"
   ]
  },
  {
   "cell_type": "code",
   "execution_count": null,
   "metadata": {},
   "outputs": [],
   "source": [
    "n = 10\n",
    "a_f = feature_df.nlargest(n, 'AdaBoost')\n",
    "e_f = feature_df.nlargest(n, 'ExtraTree')\n",
    "g_f = feature_df.nlargest(n, 'GradientBoost')\n",
    "r_f = feature_df.nlargest(n, 'RandomForest')\n",
    "\n",
    "result = pd.concat([a_f, e_f, g_f, r_f]).drop_duplicates() \n",
    "result.index\n",
    "result"
   ]
  },
  {
   "cell_type": "code",
   "execution_count": null,
   "metadata": {},
   "outputs": [],
   "source": [
    "# X_train_SF = X_train[result.index]\n",
    "# X_test_SF = X_test[result.index]\n",
    "\n",
    "\n",
    "\n",
    "selected_features = result['features'].values.tolist()\n",
    "X_train_SF = X_train[selected_features]\n",
    "X_test_SF = X_test[selected_features]\n",
    "\n",
    "\n",
    "x = X_train_SF#.reshape(-1, 26)  # 31\n",
    "y = y_train['attack_type'].ravel()\n",
    "\n",
    "\n",
    "# x=x[:20000]\n",
    "# y=y[:20000]\n",
    "\n",
    "\n",
    "x.shape\n",
    "y.size"
   ]
  },
  {
   "cell_type": "code",
   "execution_count": null,
   "metadata": {},
   "outputs": [],
   "source": [
    "clf1 = DecisionTreeClassifier() \n",
    "clf2 = RandomForestClassifier(n_estimators=25, random_state=1)# .77\n",
    "clf3 = GradientBoostingClassifier() # .76\n",
    "ET = ExtraTreesClassifier(n_estimators=10, criterion='gini', max_features='auto', bootstrap=False) # .76 # without this lil fucker, Acc: 0.75 [Ensemble], 0.78 with \n",
    "\n",
    "eclf = VotingClassifier(estimators=[('lr', clf1), ('rf', clf2), ('gnb', clf3),('et',ET)], voting='hard') \n",
    "# n =7 with better selection; .79\n",
    "# n =7 ; .77\n",
    "# n =10 ; .78\n",
    "# n =14 ; .77\n",
    "\n",
    "for clf, label in zip([clf1, clf2, clf3,ET, eclf], ['DecisionTreeClassifier', 'Random Forest', 'GradientBoostingClassifier','ExtraTreesClassifier', 'Ensemble']): \n",
    "    # scores = cross_val_score(clf, x, y, cv=2, scoring='accuracy') # cv= 5 \n",
    "    # print(\"Accuracy: %0.2f (+/- %0.2f) [%s]\" % (scores.mean(), scores.std(), label))\n",
    "\n",
    "    tmp = clf.fit(x,y)\n",
    "    pred = clf.score(X_test_SF,y_test)\n",
    "    print(\"Acc: %0.2f [%s]\" % (pred,label))"
   ]
  }
 ],
 "metadata": {
  "kernelspec": {
   "display_name": "Python 3",
   "language": "python",
   "name": "python3"
  },
  "language_info": {
   "codemirror_mode": {
    "name": "ipython",
    "version": 3
   },
   "file_extension": ".py",
   "mimetype": "text/x-python",
   "name": "python",
   "nbconvert_exporter": "python",
   "pygments_lexer": "ipython3",
   "version": "3.7.3"
  }
 },
 "nbformat": 4,
 "nbformat_minor": 2
}
